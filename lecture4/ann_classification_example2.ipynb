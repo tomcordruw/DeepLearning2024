{
 "cells": [
  {
   "cell_type": "code",
   "execution_count": 298,
   "metadata": {},
   "outputs": [],
   "source": [
    "import pandas as pd\n",
    "import numpy as np\n",
    "import matplotlib.pyplot as plt\n",
    "import seaborn as sns\n",
    "from sklearn.model_selection import train_test_split\n",
    "from sklearn import metrics\n",
    "\n",
    "from sklearn.preprocessing import OneHotEncoder, LabelEncoder\n",
    "from sklearn.preprocessing import MinMaxScaler\n",
    "\n",
    "import tensorflow as tf\n",
    "import keras\n",
    "from keras import layers\n",
    "\n",
    "from sklearn import metrics\n",
    "from sklearn.metrics import classification_report\n",
    "from sklearn.metrics import confusion_matrix\n",
    "from sklearn.metrics import accuracy_score\n",
    "from sklearn.metrics import roc_auc_score"
   ]
  },
  {
   "cell_type": "code",
   "execution_count": 299,
   "metadata": {},
   "outputs": [
    {
     "data": {
      "text/html": [
       "<div>\n",
       "<style scoped>\n",
       "    .dataframe tbody tr th:only-of-type {\n",
       "        vertical-align: middle;\n",
       "    }\n",
       "\n",
       "    .dataframe tbody tr th {\n",
       "        vertical-align: top;\n",
       "    }\n",
       "\n",
       "    .dataframe thead th {\n",
       "        text-align: right;\n",
       "    }\n",
       "</style>\n",
       "<table border=\"1\" class=\"dataframe\">\n",
       "  <thead>\n",
       "    <tr style=\"text-align: right;\">\n",
       "      <th></th>\n",
       "      <th>fixed acidity</th>\n",
       "      <th>volatile acidity</th>\n",
       "      <th>citric acid</th>\n",
       "      <th>residual sugar</th>\n",
       "      <th>chlorides</th>\n",
       "      <th>free sulfur dioxide</th>\n",
       "      <th>total sulfur dioxide</th>\n",
       "      <th>density</th>\n",
       "      <th>pH</th>\n",
       "      <th>sulphates</th>\n",
       "      <th>alcohol</th>\n",
       "      <th>quality</th>\n",
       "    </tr>\n",
       "  </thead>\n",
       "  <tbody>\n",
       "    <tr>\n",
       "      <th>0</th>\n",
       "      <td>7.4</td>\n",
       "      <td>0.70</td>\n",
       "      <td>0.00</td>\n",
       "      <td>1.9</td>\n",
       "      <td>0.076</td>\n",
       "      <td>11.0</td>\n",
       "      <td>34.0</td>\n",
       "      <td>0.9978</td>\n",
       "      <td>3.51</td>\n",
       "      <td>0.56</td>\n",
       "      <td>9.4</td>\n",
       "      <td>5</td>\n",
       "    </tr>\n",
       "    <tr>\n",
       "      <th>1</th>\n",
       "      <td>7.8</td>\n",
       "      <td>0.88</td>\n",
       "      <td>0.00</td>\n",
       "      <td>2.6</td>\n",
       "      <td>0.098</td>\n",
       "      <td>25.0</td>\n",
       "      <td>67.0</td>\n",
       "      <td>0.9968</td>\n",
       "      <td>3.20</td>\n",
       "      <td>0.68</td>\n",
       "      <td>9.8</td>\n",
       "      <td>5</td>\n",
       "    </tr>\n",
       "    <tr>\n",
       "      <th>2</th>\n",
       "      <td>7.8</td>\n",
       "      <td>0.76</td>\n",
       "      <td>0.04</td>\n",
       "      <td>2.3</td>\n",
       "      <td>0.092</td>\n",
       "      <td>15.0</td>\n",
       "      <td>54.0</td>\n",
       "      <td>0.9970</td>\n",
       "      <td>3.26</td>\n",
       "      <td>0.65</td>\n",
       "      <td>9.8</td>\n",
       "      <td>5</td>\n",
       "    </tr>\n",
       "    <tr>\n",
       "      <th>3</th>\n",
       "      <td>11.2</td>\n",
       "      <td>0.28</td>\n",
       "      <td>0.56</td>\n",
       "      <td>1.9</td>\n",
       "      <td>0.075</td>\n",
       "      <td>17.0</td>\n",
       "      <td>60.0</td>\n",
       "      <td>0.9980</td>\n",
       "      <td>3.16</td>\n",
       "      <td>0.58</td>\n",
       "      <td>9.8</td>\n",
       "      <td>6</td>\n",
       "    </tr>\n",
       "    <tr>\n",
       "      <th>5</th>\n",
       "      <td>7.4</td>\n",
       "      <td>0.66</td>\n",
       "      <td>0.00</td>\n",
       "      <td>1.8</td>\n",
       "      <td>0.075</td>\n",
       "      <td>13.0</td>\n",
       "      <td>40.0</td>\n",
       "      <td>0.9978</td>\n",
       "      <td>3.51</td>\n",
       "      <td>0.56</td>\n",
       "      <td>9.4</td>\n",
       "      <td>5</td>\n",
       "    </tr>\n",
       "  </tbody>\n",
       "</table>\n",
       "</div>"
      ],
      "text/plain": [
       "   fixed acidity  volatile acidity  citric acid  residual sugar  chlorides  \\\n",
       "0            7.4              0.70         0.00             1.9      0.076   \n",
       "1            7.8              0.88         0.00             2.6      0.098   \n",
       "2            7.8              0.76         0.04             2.3      0.092   \n",
       "3           11.2              0.28         0.56             1.9      0.075   \n",
       "5            7.4              0.66         0.00             1.8      0.075   \n",
       "\n",
       "   free sulfur dioxide  total sulfur dioxide  density    pH  sulphates  \\\n",
       "0                 11.0                  34.0   0.9978  3.51       0.56   \n",
       "1                 25.0                  67.0   0.9968  3.20       0.68   \n",
       "2                 15.0                  54.0   0.9970  3.26       0.65   \n",
       "3                 17.0                  60.0   0.9980  3.16       0.58   \n",
       "5                 13.0                  40.0   0.9978  3.51       0.56   \n",
       "\n",
       "   alcohol  quality  \n",
       "0      9.4        5  \n",
       "1      9.8        5  \n",
       "2      9.8        5  \n",
       "3      9.8        6  \n",
       "5      9.4        5  "
      ]
     },
     "execution_count": 299,
     "metadata": {},
     "output_type": "execute_result"
    }
   ],
   "source": [
    "df = pd.read_csv(\"winequality-red.csv\")\n",
    "df = df.drop_duplicates()\n",
    "df.head()"
   ]
  },
  {
   "cell_type": "code",
   "execution_count": 300,
   "metadata": {},
   "outputs": [
    {
     "data": {
      "text/plain": [
       "quality\n",
       "5    577\n",
       "6    535\n",
       "7    167\n",
       "4     53\n",
       "8     17\n",
       "3     10\n",
       "Name: count, dtype: int64"
      ]
     },
     "execution_count": 300,
     "metadata": {},
     "output_type": "execute_result"
    }
   ],
   "source": [
    "df['quality'].value_counts()"
   ]
  },
  {
   "cell_type": "code",
   "execution_count": 301,
   "metadata": {},
   "outputs": [
    {
     "data": {
      "text/plain": [
       "quality\n",
       "5    577\n",
       "6    535\n",
       "7    167\n",
       "4     53\n",
       "Name: count, dtype: int64"
      ]
     },
     "execution_count": 301,
     "metadata": {},
     "output_type": "execute_result"
    }
   ],
   "source": [
    "# 8 and 3 are clearly underrepresented, so it might be better to remove those\n",
    "# Let's only take 4-7\n",
    "remaining_qualities = [4,5,6,7]\n",
    "df = df[df['quality'].isin(remaining_qualities)]\n",
    "df['quality'].value_counts()"
   ]
  },
  {
   "cell_type": "code",
   "execution_count": 302,
   "metadata": {},
   "outputs": [],
   "source": [
    "# everything else except the target variable\n",
    "X = df.drop(\"quality\", axis=1)\n",
    "\n",
    "# have only the target variable here (dependent variable)\n",
    "y = df['quality']\n",
    "\n",
    "# Normalization\n",
    "#X_mm = MinMaxScaler().fit_transform(X)\n",
    "\n",
    "# since we are doing classification, we have to process our target values with an encoder\n",
    "# and convert them into a categorical TensorFlow/Keras -format \n",
    "le = LabelEncoder()\n",
    "y_enc = le.fit_transform(y)\n",
    "\n",
    "# Converting the label into a matrix form\n",
    "y = tf.keras.utils.to_categorical(y_enc)"
   ]
  },
  {
   "cell_type": "code",
   "execution_count": 303,
   "metadata": {},
   "outputs": [],
   "source": [
    "# As always, train/validation/test split\n",
    "X_train, X_temp, y_train, y_temp = train_test_split(X, y, test_size=0.20)\n",
    "X_val, X_test, y_val, y_test = train_test_split(X_temp, y_temp, test_size=0.5)"
   ]
  },
  {
   "cell_type": "code",
   "execution_count": 304,
   "metadata": {},
   "outputs": [
    {
     "name": "stdout",
     "output_type": "stream",
     "text": [
      "[4, 5, 6, 7]\n"
     ]
    }
   ],
   "source": [
    "# save the categories into a list\n",
    "categories = list(np.unique(df['quality']))\n",
    "print(categories)\n",
    "\n",
    "# df['price_range'] = df['price_range'].replace({0: \"1: Cheap\", 1: \"2: Avg-\", 2: \"3: Avg+\", 3: \"4: Expensive\"})"
   ]
  },
  {
   "cell_type": "code",
   "execution_count": 305,
   "metadata": {},
   "outputs": [
    {
     "name": "stdout",
     "output_type": "stream",
     "text": [
      "Model: \"sequential_22\"\n",
      "_________________________________________________________________\n",
      " Layer (type)                Output Shape              Param #   \n",
      "=================================================================\n",
      " batch_normalization_16 (Ba  (None, 11)                44        \n",
      " tchNormalization)                                               \n",
      "                                                                 \n",
      " dense_86 (Dense)            (None, 64)                768       \n",
      "                                                                 \n",
      " dropout_28 (Dropout)        (None, 64)                0         \n",
      "                                                                 \n",
      " dense_87 (Dense)            (None, 32)                2080      \n",
      "                                                                 \n",
      " dropout_29 (Dropout)        (None, 32)                0         \n",
      "                                                                 \n",
      " dense_88 (Dense)            (None, 16)                528       \n",
      "                                                                 \n",
      " dense_89 (Dense)            (None, 4)                 68        \n",
      "                                                                 \n",
      "=================================================================\n",
      "Total params: 3488 (13.62 KB)\n",
      "Trainable params: 3466 (13.54 KB)\n",
      "Non-trainable params: 22 (88.00 Byte)\n",
      "_________________________________________________________________\n"
     ]
    }
   ],
   "source": [
    "# First version of the neural network\n",
    "# No optimisations, probably won't work well\n",
    "model = keras.Sequential(\n",
    "    [\n",
    "        layers.BatchNormalization(input_shape=(len(X.columns),)),\n",
    "        layers.Dense(64, activation=\"relu\", kernel_regularizer=keras.regularizers.l1_l2()),\n",
    "        layers.Dropout(0.1),\n",
    "        layers.Dense(32, activation=\"relu\"),\n",
    "        layers.Dropout(0.2),\n",
    "        layers.Dense(16, activation=\"relu\"),\n",
    "        layers.Dense(len(categories), activation=\"softmax\")\n",
    "    ]\n",
    ")\n",
    "\n",
    "# compile the model, this time we use categorical crossentropy for loss -function\n",
    "# and we also measure the accuracy of our model in the metrics\n",
    "model.compile(optimizer=\"adam\", loss='categorical_crossentropy', metrics=['accuracy'])\n",
    "model.summary()"
   ]
  },
  {
   "cell_type": "code",
   "execution_count": 306,
   "metadata": {},
   "outputs": [
    {
     "name": "stdout",
     "output_type": "stream",
     "text": [
      "Epoch 1/200\n"
     ]
    },
    {
     "name": "stdout",
     "output_type": "stream",
     "text": [
      "34/34 [==============================] - 2s 12ms/step - loss: 2.4123 - accuracy: 0.3324 - val_loss: 2.1515 - val_accuracy: 0.5038\n",
      "Epoch 2/200\n",
      "34/34 [==============================] - 0s 4ms/step - loss: 2.0260 - accuracy: 0.5202 - val_loss: 1.9571 - val_accuracy: 0.4361\n",
      "Epoch 3/200\n",
      "34/34 [==============================] - 0s 4ms/step - loss: 1.7339 - accuracy: 0.5643 - val_loss: 1.8680 - val_accuracy: 0.4135\n",
      "Epoch 4/200\n",
      "34/34 [==============================] - 0s 4ms/step - loss: 1.5295 - accuracy: 0.5775 - val_loss: 1.7886 - val_accuracy: 0.4060\n",
      "Epoch 5/200\n",
      "34/34 [==============================] - 0s 4ms/step - loss: 1.3942 - accuracy: 0.5887 - val_loss: 1.5666 - val_accuracy: 0.4812\n",
      "Epoch 6/200\n",
      "34/34 [==============================] - 0s 3ms/step - loss: 1.2839 - accuracy: 0.5718 - val_loss: 1.3992 - val_accuracy: 0.4962\n",
      "Epoch 7/200\n",
      "34/34 [==============================] - 0s 5ms/step - loss: 1.1843 - accuracy: 0.6038 - val_loss: 1.2743 - val_accuracy: 0.5489\n",
      "Epoch 8/200\n",
      "34/34 [==============================] - 0s 4ms/step - loss: 1.1313 - accuracy: 0.5934 - val_loss: 1.1502 - val_accuracy: 0.6316\n",
      "Epoch 9/200\n",
      "34/34 [==============================] - 0s 4ms/step - loss: 1.0736 - accuracy: 0.5869 - val_loss: 1.0966 - val_accuracy: 0.6391\n",
      "Epoch 10/200\n",
      "34/34 [==============================] - 0s 4ms/step - loss: 1.0318 - accuracy: 0.5906 - val_loss: 1.0371 - val_accuracy: 0.6316\n",
      "Epoch 11/200\n",
      "34/34 [==============================] - 0s 4ms/step - loss: 0.9948 - accuracy: 0.6000 - val_loss: 1.0024 - val_accuracy: 0.6466\n",
      "Epoch 12/200\n",
      "34/34 [==============================] - 0s 4ms/step - loss: 0.9831 - accuracy: 0.5972 - val_loss: 0.9832 - val_accuracy: 0.6391\n",
      "Epoch 13/200\n",
      "34/34 [==============================] - 0s 4ms/step - loss: 0.9680 - accuracy: 0.6000 - val_loss: 0.9685 - val_accuracy: 0.6466\n",
      "Epoch 14/200\n",
      "34/34 [==============================] - 0s 4ms/step - loss: 0.9550 - accuracy: 0.5869 - val_loss: 0.9640 - val_accuracy: 0.6241\n",
      "Epoch 15/200\n",
      "34/34 [==============================] - 0s 4ms/step - loss: 0.9560 - accuracy: 0.5972 - val_loss: 0.9576 - val_accuracy: 0.6391\n",
      "Epoch 16/200\n",
      "34/34 [==============================] - 0s 5ms/step - loss: 0.9466 - accuracy: 0.5925 - val_loss: 0.9510 - val_accuracy: 0.6466\n",
      "Epoch 17/200\n",
      "34/34 [==============================] - 0s 4ms/step - loss: 0.9423 - accuracy: 0.6066 - val_loss: 0.9486 - val_accuracy: 0.6316\n",
      "Epoch 18/200\n",
      "34/34 [==============================] - 0s 4ms/step - loss: 0.9485 - accuracy: 0.5953 - val_loss: 0.9475 - val_accuracy: 0.6391\n",
      "Epoch 19/200\n",
      "34/34 [==============================] - 0s 5ms/step - loss: 0.9416 - accuracy: 0.6038 - val_loss: 0.9431 - val_accuracy: 0.6466\n",
      "Epoch 20/200\n",
      "34/34 [==============================] - 0s 4ms/step - loss: 0.9465 - accuracy: 0.6000 - val_loss: 0.9503 - val_accuracy: 0.6165\n",
      "Epoch 21/200\n",
      "34/34 [==============================] - 0s 4ms/step - loss: 0.9428 - accuracy: 0.5981 - val_loss: 0.9420 - val_accuracy: 0.6316\n",
      "Epoch 22/200\n",
      "34/34 [==============================] - 0s 3ms/step - loss: 0.9394 - accuracy: 0.5859 - val_loss: 0.9356 - val_accuracy: 0.6391\n",
      "Epoch 23/200\n",
      "34/34 [==============================] - 0s 4ms/step - loss: 0.9409 - accuracy: 0.5962 - val_loss: 0.9293 - val_accuracy: 0.6165\n",
      "Epoch 24/200\n",
      "34/34 [==============================] - 0s 4ms/step - loss: 0.9232 - accuracy: 0.6019 - val_loss: 0.9361 - val_accuracy: 0.6617\n",
      "Epoch 25/200\n",
      "34/34 [==============================] - 0s 4ms/step - loss: 0.9353 - accuracy: 0.5981 - val_loss: 0.9272 - val_accuracy: 0.6466\n",
      "Epoch 26/200\n",
      "34/34 [==============================] - 0s 4ms/step - loss: 0.9201 - accuracy: 0.5897 - val_loss: 0.9302 - val_accuracy: 0.6391\n",
      "Epoch 27/200\n",
      "34/34 [==============================] - 0s 4ms/step - loss: 0.9177 - accuracy: 0.6141 - val_loss: 0.9118 - val_accuracy: 0.6165\n",
      "Epoch 28/200\n",
      "34/34 [==============================] - 0s 4ms/step - loss: 0.9313 - accuracy: 0.5953 - val_loss: 0.9163 - val_accuracy: 0.6241\n",
      "Epoch 29/200\n",
      "34/34 [==============================] - 0s 4ms/step - loss: 0.9167 - accuracy: 0.5897 - val_loss: 0.9352 - val_accuracy: 0.6241\n",
      "Epoch 30/200\n",
      "34/34 [==============================] - 0s 5ms/step - loss: 0.9381 - accuracy: 0.5972 - val_loss: 0.9181 - val_accuracy: 0.6466\n",
      "Epoch 31/200\n",
      "34/34 [==============================] - 0s 4ms/step - loss: 0.9249 - accuracy: 0.6009 - val_loss: 0.9177 - val_accuracy: 0.6466\n",
      "Epoch 32/200\n",
      "34/34 [==============================] - 0s 4ms/step - loss: 0.9280 - accuracy: 0.6028 - val_loss: 0.9170 - val_accuracy: 0.6541\n",
      "Epoch 33/200\n",
      "34/34 [==============================] - 0s 3ms/step - loss: 0.9276 - accuracy: 0.6066 - val_loss: 0.9336 - val_accuracy: 0.6692\n",
      "Epoch 34/200\n",
      "34/34 [==============================] - 0s 4ms/step - loss: 0.9218 - accuracy: 0.6056 - val_loss: 0.9131 - val_accuracy: 0.6391\n",
      "Epoch 35/200\n",
      "34/34 [==============================] - 0s 4ms/step - loss: 0.9140 - accuracy: 0.6122 - val_loss: 0.9192 - val_accuracy: 0.6241\n",
      "Epoch 36/200\n",
      "34/34 [==============================] - 0s 4ms/step - loss: 0.9233 - accuracy: 0.6009 - val_loss: 0.9156 - val_accuracy: 0.6466\n",
      "Epoch 37/200\n",
      "34/34 [==============================] - 0s 4ms/step - loss: 0.9194 - accuracy: 0.6169 - val_loss: 0.9149 - val_accuracy: 0.6015\n",
      "Epoch 38/200\n",
      "34/34 [==============================] - 0s 4ms/step - loss: 0.9141 - accuracy: 0.6103 - val_loss: 0.9299 - val_accuracy: 0.6090\n",
      "Epoch 39/200\n",
      "34/34 [==============================] - 0s 4ms/step - loss: 0.9316 - accuracy: 0.6122 - val_loss: 0.9216 - val_accuracy: 0.6015\n",
      "Epoch 40/200\n",
      "34/34 [==============================] - 0s 4ms/step - loss: 0.9306 - accuracy: 0.5925 - val_loss: 0.9225 - val_accuracy: 0.6466\n",
      "Epoch 41/200\n",
      "34/34 [==============================] - 0s 4ms/step - loss: 0.9064 - accuracy: 0.6235 - val_loss: 0.9187 - val_accuracy: 0.6090\n",
      "Epoch 42/200\n",
      "34/34 [==============================] - 0s 4ms/step - loss: 0.9113 - accuracy: 0.6178 - val_loss: 0.9192 - val_accuracy: 0.6015\n",
      "Epoch 43/200\n",
      "34/34 [==============================] - 0s 4ms/step - loss: 0.9282 - accuracy: 0.6113 - val_loss: 0.9267 - val_accuracy: 0.6541\n",
      "Epoch 44/200\n",
      "34/34 [==============================] - 0s 4ms/step - loss: 0.9146 - accuracy: 0.6028 - val_loss: 0.9292 - val_accuracy: 0.6241\n",
      "Epoch 45/200\n",
      "34/34 [==============================] - 0s 4ms/step - loss: 0.9047 - accuracy: 0.6094 - val_loss: 0.9112 - val_accuracy: 0.6165\n",
      "Epoch 46/200\n",
      "34/34 [==============================] - 0s 4ms/step - loss: 0.9082 - accuracy: 0.6047 - val_loss: 0.9161 - val_accuracy: 0.6090\n",
      "Epoch 47/200\n",
      "34/34 [==============================] - 0s 4ms/step - loss: 0.9183 - accuracy: 0.5925 - val_loss: 0.9135 - val_accuracy: 0.6466\n",
      "Epoch 48/200\n",
      "34/34 [==============================] - 0s 5ms/step - loss: 0.9064 - accuracy: 0.6207 - val_loss: 0.9064 - val_accuracy: 0.6466\n",
      "Epoch 49/200\n",
      "34/34 [==============================] - 0s 4ms/step - loss: 0.8986 - accuracy: 0.6094 - val_loss: 0.9067 - val_accuracy: 0.6015\n",
      "Epoch 50/200\n",
      "34/34 [==============================] - 0s 5ms/step - loss: 0.9113 - accuracy: 0.6009 - val_loss: 0.9035 - val_accuracy: 0.6090\n",
      "Epoch 51/200\n",
      "34/34 [==============================] - 0s 4ms/step - loss: 0.9155 - accuracy: 0.6085 - val_loss: 0.9165 - val_accuracy: 0.6015\n",
      "Epoch 52/200\n",
      "34/34 [==============================] - 0s 4ms/step - loss: 0.9019 - accuracy: 0.6094 - val_loss: 0.9232 - val_accuracy: 0.6391\n",
      "Epoch 53/200\n",
      "34/34 [==============================] - 0s 4ms/step - loss: 0.9085 - accuracy: 0.6282 - val_loss: 0.9218 - val_accuracy: 0.6466\n",
      "Epoch 54/200\n",
      "34/34 [==============================] - 0s 4ms/step - loss: 0.9152 - accuracy: 0.6225 - val_loss: 0.8923 - val_accuracy: 0.6241\n",
      "Epoch 55/200\n",
      "34/34 [==============================] - 0s 4ms/step - loss: 0.9047 - accuracy: 0.6038 - val_loss: 0.9159 - val_accuracy: 0.6466\n",
      "Epoch 56/200\n",
      "34/34 [==============================] - 0s 4ms/step - loss: 0.9004 - accuracy: 0.6103 - val_loss: 0.9105 - val_accuracy: 0.6541\n",
      "Epoch 57/200\n",
      "34/34 [==============================] - 0s 4ms/step - loss: 0.8970 - accuracy: 0.6094 - val_loss: 0.9171 - val_accuracy: 0.6165\n",
      "Epoch 58/200\n",
      "34/34 [==============================] - 0s 4ms/step - loss: 0.9080 - accuracy: 0.6216 - val_loss: 0.9105 - val_accuracy: 0.6466\n",
      "Epoch 59/200\n",
      "34/34 [==============================] - 0s 4ms/step - loss: 0.9059 - accuracy: 0.6207 - val_loss: 0.8934 - val_accuracy: 0.6316\n",
      "Epoch 60/200\n",
      "34/34 [==============================] - 0s 4ms/step - loss: 0.8921 - accuracy: 0.6235 - val_loss: 0.9046 - val_accuracy: 0.6391\n",
      "Epoch 61/200\n",
      "34/34 [==============================] - 0s 3ms/step - loss: 0.8948 - accuracy: 0.6216 - val_loss: 0.9098 - val_accuracy: 0.6316\n",
      "Epoch 62/200\n",
      "34/34 [==============================] - 0s 4ms/step - loss: 0.9145 - accuracy: 0.6103 - val_loss: 0.9178 - val_accuracy: 0.6316\n",
      "Epoch 63/200\n",
      "34/34 [==============================] - 0s 4ms/step - loss: 0.9045 - accuracy: 0.5991 - val_loss: 0.9047 - val_accuracy: 0.6391\n",
      "Epoch 64/200\n",
      "34/34 [==============================] - 0s 4ms/step - loss: 0.8963 - accuracy: 0.6188 - val_loss: 0.9005 - val_accuracy: 0.6391\n",
      "Epoch 65/200\n",
      "34/34 [==============================] - 0s 4ms/step - loss: 0.9209 - accuracy: 0.5878 - val_loss: 0.8990 - val_accuracy: 0.6241\n",
      "Epoch 66/200\n",
      "34/34 [==============================] - 0s 4ms/step - loss: 0.8998 - accuracy: 0.6188 - val_loss: 0.9187 - val_accuracy: 0.6391\n",
      "Epoch 67/200\n",
      "34/34 [==============================] - 0s 4ms/step - loss: 0.8883 - accuracy: 0.6272 - val_loss: 0.9074 - val_accuracy: 0.6165\n",
      "Epoch 68/200\n",
      "34/34 [==============================] - 0s 4ms/step - loss: 0.8991 - accuracy: 0.6085 - val_loss: 0.9024 - val_accuracy: 0.6241\n",
      "Epoch 69/200\n",
      "34/34 [==============================] - 0s 4ms/step - loss: 0.9004 - accuracy: 0.6141 - val_loss: 0.8967 - val_accuracy: 0.6316\n",
      "Epoch 70/200\n",
      "34/34 [==============================] - 0s 4ms/step - loss: 0.8895 - accuracy: 0.6094 - val_loss: 0.8910 - val_accuracy: 0.6241\n",
      "Epoch 71/200\n",
      "34/34 [==============================] - 0s 4ms/step - loss: 0.8922 - accuracy: 0.6038 - val_loss: 0.9211 - val_accuracy: 0.6466\n",
      "Epoch 72/200\n",
      "34/34 [==============================] - 0s 4ms/step - loss: 0.8873 - accuracy: 0.6122 - val_loss: 0.9012 - val_accuracy: 0.6391\n",
      "Epoch 73/200\n",
      "34/34 [==============================] - 0s 4ms/step - loss: 0.8946 - accuracy: 0.6178 - val_loss: 0.8963 - val_accuracy: 0.6617\n",
      "Epoch 74/200\n",
      "34/34 [==============================] - 0s 4ms/step - loss: 0.8914 - accuracy: 0.6254 - val_loss: 0.8888 - val_accuracy: 0.6316\n",
      "Epoch 75/200\n",
      "34/34 [==============================] - 0s 4ms/step - loss: 0.8953 - accuracy: 0.6103 - val_loss: 0.9103 - val_accuracy: 0.6316\n",
      "Epoch 76/200\n",
      "34/34 [==============================] - 0s 4ms/step - loss: 0.8942 - accuracy: 0.6263 - val_loss: 0.8978 - val_accuracy: 0.6241\n",
      "Epoch 77/200\n",
      "34/34 [==============================] - 0s 4ms/step - loss: 0.8944 - accuracy: 0.6066 - val_loss: 0.9111 - val_accuracy: 0.6316\n",
      "Epoch 78/200\n",
      "34/34 [==============================] - 0s 5ms/step - loss: 0.8970 - accuracy: 0.6188 - val_loss: 0.8920 - val_accuracy: 0.6241\n",
      "Epoch 79/200\n",
      "34/34 [==============================] - 0s 4ms/step - loss: 0.8899 - accuracy: 0.6141 - val_loss: 0.9022 - val_accuracy: 0.6541\n",
      "Epoch 80/200\n",
      "34/34 [==============================] - 0s 4ms/step - loss: 0.8923 - accuracy: 0.6131 - val_loss: 0.9012 - val_accuracy: 0.6541\n",
      "Epoch 81/200\n",
      "34/34 [==============================] - 0s 4ms/step - loss: 0.8819 - accuracy: 0.6254 - val_loss: 0.8954 - val_accuracy: 0.6391\n",
      "Epoch 82/200\n",
      "34/34 [==============================] - 0s 4ms/step - loss: 0.9037 - accuracy: 0.6094 - val_loss: 0.8943 - val_accuracy: 0.6316\n",
      "Epoch 83/200\n",
      "34/34 [==============================] - 0s 4ms/step - loss: 0.8954 - accuracy: 0.6122 - val_loss: 0.9097 - val_accuracy: 0.6541\n",
      "Epoch 84/200\n",
      "34/34 [==============================] - 0s 4ms/step - loss: 0.8839 - accuracy: 0.6047 - val_loss: 0.9048 - val_accuracy: 0.6316\n",
      "Epoch 85/200\n",
      "34/34 [==============================] - 0s 4ms/step - loss: 0.8903 - accuracy: 0.6113 - val_loss: 0.9115 - val_accuracy: 0.6241\n",
      "Epoch 86/200\n",
      "34/34 [==============================] - 0s 4ms/step - loss: 0.9117 - accuracy: 0.6085 - val_loss: 0.8941 - val_accuracy: 0.6165\n",
      "Epoch 87/200\n",
      "34/34 [==============================] - 0s 4ms/step - loss: 0.8916 - accuracy: 0.6272 - val_loss: 0.8945 - val_accuracy: 0.6316\n",
      "Epoch 88/200\n",
      "34/34 [==============================] - 0s 4ms/step - loss: 0.8828 - accuracy: 0.6150 - val_loss: 0.9043 - val_accuracy: 0.6391\n",
      "Epoch 89/200\n",
      "34/34 [==============================] - 0s 4ms/step - loss: 0.8861 - accuracy: 0.6404 - val_loss: 0.9207 - val_accuracy: 0.6015\n",
      "Epoch 90/200\n",
      "34/34 [==============================] - 0s 4ms/step - loss: 0.8850 - accuracy: 0.6282 - val_loss: 0.8938 - val_accuracy: 0.6391\n",
      "Epoch 91/200\n",
      "34/34 [==============================] - 0s 4ms/step - loss: 0.9125 - accuracy: 0.6244 - val_loss: 0.8949 - val_accuracy: 0.6090\n",
      "Epoch 92/200\n",
      "34/34 [==============================] - 0s 4ms/step - loss: 0.8938 - accuracy: 0.6122 - val_loss: 0.9030 - val_accuracy: 0.6015\n",
      "Epoch 93/200\n",
      "34/34 [==============================] - 0s 4ms/step - loss: 0.8939 - accuracy: 0.6094 - val_loss: 0.9005 - val_accuracy: 0.6241\n",
      "Epoch 94/200\n",
      "34/34 [==============================] - 0s 4ms/step - loss: 0.8916 - accuracy: 0.6160 - val_loss: 0.8914 - val_accuracy: 0.6015\n",
      "Epoch 95/200\n",
      "34/34 [==============================] - 0s 4ms/step - loss: 0.8828 - accuracy: 0.6197 - val_loss: 0.9047 - val_accuracy: 0.6316\n",
      "Epoch 96/200\n",
      "34/34 [==============================] - 0s 4ms/step - loss: 0.8668 - accuracy: 0.6225 - val_loss: 0.9055 - val_accuracy: 0.6165\n",
      "Epoch 97/200\n",
      "34/34 [==============================] - 0s 4ms/step - loss: 0.8764 - accuracy: 0.6178 - val_loss: 0.9022 - val_accuracy: 0.6241\n",
      "Epoch 98/200\n",
      "34/34 [==============================] - 0s 4ms/step - loss: 0.8925 - accuracy: 0.6197 - val_loss: 0.9004 - val_accuracy: 0.6316\n",
      "Epoch 99/200\n",
      "34/34 [==============================] - 0s 4ms/step - loss: 0.8852 - accuracy: 0.6254 - val_loss: 0.8965 - val_accuracy: 0.6241\n",
      "Epoch 100/200\n",
      "34/34 [==============================] - 0s 4ms/step - loss: 0.8741 - accuracy: 0.6263 - val_loss: 0.9066 - val_accuracy: 0.6241\n",
      "Epoch 101/200\n",
      "34/34 [==============================] - 0s 4ms/step - loss: 0.9002 - accuracy: 0.6038 - val_loss: 0.9093 - val_accuracy: 0.6316\n",
      "Epoch 102/200\n",
      "34/34 [==============================] - 0s 4ms/step - loss: 0.8872 - accuracy: 0.6254 - val_loss: 0.9010 - val_accuracy: 0.6241\n",
      "Epoch 103/200\n",
      "34/34 [==============================] - 0s 4ms/step - loss: 0.8906 - accuracy: 0.6216 - val_loss: 0.9048 - val_accuracy: 0.6241\n",
      "Epoch 104/200\n",
      "34/34 [==============================] - 0s 4ms/step - loss: 0.8857 - accuracy: 0.6300 - val_loss: 0.9096 - val_accuracy: 0.6316\n",
      "Epoch 105/200\n",
      "34/34 [==============================] - 0s 4ms/step - loss: 0.8983 - accuracy: 0.6225 - val_loss: 0.8977 - val_accuracy: 0.6165\n",
      "Epoch 106/200\n",
      "34/34 [==============================] - 0s 4ms/step - loss: 0.8814 - accuracy: 0.6207 - val_loss: 0.9149 - val_accuracy: 0.6391\n",
      "Epoch 107/200\n",
      "34/34 [==============================] - 0s 4ms/step - loss: 0.8874 - accuracy: 0.6282 - val_loss: 0.8997 - val_accuracy: 0.6165\n",
      "Epoch 108/200\n",
      "34/34 [==============================] - 0s 4ms/step - loss: 0.8771 - accuracy: 0.6197 - val_loss: 0.9112 - val_accuracy: 0.6165\n",
      "Epoch 109/200\n",
      "34/34 [==============================] - 0s 4ms/step - loss: 0.8865 - accuracy: 0.6009 - val_loss: 0.9078 - val_accuracy: 0.6241\n",
      "Epoch 110/200\n",
      "34/34 [==============================] - 0s 4ms/step - loss: 0.8789 - accuracy: 0.6244 - val_loss: 0.9029 - val_accuracy: 0.6241\n",
      "Epoch 111/200\n",
      "34/34 [==============================] - 0s 4ms/step - loss: 0.8794 - accuracy: 0.6244 - val_loss: 0.9132 - val_accuracy: 0.6165\n",
      "Epoch 112/200\n",
      "34/34 [==============================] - 0s 4ms/step - loss: 0.8807 - accuracy: 0.6300 - val_loss: 0.9056 - val_accuracy: 0.6316\n",
      "Epoch 113/200\n",
      "34/34 [==============================] - 0s 4ms/step - loss: 0.8766 - accuracy: 0.6310 - val_loss: 0.8937 - val_accuracy: 0.6015\n",
      "Epoch 114/200\n",
      "34/34 [==============================] - 0s 4ms/step - loss: 0.8817 - accuracy: 0.6028 - val_loss: 0.9123 - val_accuracy: 0.6165\n",
      "Epoch 115/200\n",
      "34/34 [==============================] - 0s 4ms/step - loss: 0.8742 - accuracy: 0.6254 - val_loss: 0.9065 - val_accuracy: 0.6165\n",
      "Epoch 116/200\n",
      "34/34 [==============================] - 0s 7ms/step - loss: 0.8790 - accuracy: 0.6216 - val_loss: 0.9023 - val_accuracy: 0.6015\n",
      "Epoch 117/200\n",
      "34/34 [==============================] - 0s 4ms/step - loss: 0.8927 - accuracy: 0.6047 - val_loss: 0.9098 - val_accuracy: 0.6165\n",
      "Epoch 118/200\n",
      "34/34 [==============================] - 0s 4ms/step - loss: 0.8759 - accuracy: 0.6272 - val_loss: 0.9014 - val_accuracy: 0.5865\n",
      "Epoch 119/200\n",
      "34/34 [==============================] - 0s 4ms/step - loss: 0.8822 - accuracy: 0.6160 - val_loss: 0.8948 - val_accuracy: 0.6015\n",
      "Epoch 120/200\n",
      "34/34 [==============================] - 0s 4ms/step - loss: 0.8697 - accuracy: 0.6244 - val_loss: 0.9010 - val_accuracy: 0.6241\n",
      "Epoch 121/200\n",
      "34/34 [==============================] - 0s 4ms/step - loss: 0.8800 - accuracy: 0.6225 - val_loss: 0.9050 - val_accuracy: 0.6241\n",
      "Epoch 122/200\n",
      "34/34 [==============================] - 0s 4ms/step - loss: 0.8665 - accuracy: 0.6103 - val_loss: 0.9108 - val_accuracy: 0.6391\n",
      "Epoch 123/200\n",
      "34/34 [==============================] - 0s 5ms/step - loss: 0.8827 - accuracy: 0.6169 - val_loss: 0.8980 - val_accuracy: 0.6165\n",
      "Epoch 124/200\n",
      "34/34 [==============================] - 0s 4ms/step - loss: 0.8848 - accuracy: 0.6235 - val_loss: 0.9085 - val_accuracy: 0.6015\n",
      "Epoch 125/200\n",
      "34/34 [==============================] - 0s 4ms/step - loss: 0.8888 - accuracy: 0.6188 - val_loss: 0.9053 - val_accuracy: 0.6316\n",
      "Epoch 126/200\n",
      "34/34 [==============================] - 0s 4ms/step - loss: 0.8762 - accuracy: 0.6103 - val_loss: 0.9134 - val_accuracy: 0.6316\n",
      "Epoch 127/200\n",
      "34/34 [==============================] - 0s 4ms/step - loss: 0.8782 - accuracy: 0.6291 - val_loss: 0.9114 - val_accuracy: 0.6090\n",
      "Epoch 128/200\n",
      "34/34 [==============================] - 0s 4ms/step - loss: 0.8909 - accuracy: 0.6056 - val_loss: 0.8993 - val_accuracy: 0.6090\n",
      "Epoch 129/200\n",
      "34/34 [==============================] - 0s 4ms/step - loss: 0.8725 - accuracy: 0.6235 - val_loss: 0.9130 - val_accuracy: 0.5940\n",
      "Epoch 130/200\n",
      "34/34 [==============================] - 0s 4ms/step - loss: 0.8685 - accuracy: 0.6263 - val_loss: 0.8963 - val_accuracy: 0.6241\n",
      "Epoch 131/200\n",
      "34/34 [==============================] - 0s 4ms/step - loss: 0.8935 - accuracy: 0.6272 - val_loss: 0.9117 - val_accuracy: 0.6165\n",
      "Epoch 132/200\n",
      "34/34 [==============================] - 0s 4ms/step - loss: 0.8811 - accuracy: 0.6197 - val_loss: 0.8998 - val_accuracy: 0.6090\n",
      "Epoch 133/200\n",
      "34/34 [==============================] - 0s 4ms/step - loss: 0.8833 - accuracy: 0.6319 - val_loss: 0.9045 - val_accuracy: 0.5865\n",
      "Epoch 134/200\n",
      "34/34 [==============================] - 0s 4ms/step - loss: 0.8893 - accuracy: 0.6066 - val_loss: 0.9089 - val_accuracy: 0.6165\n",
      "Epoch 135/200\n",
      "34/34 [==============================] - 0s 4ms/step - loss: 0.8750 - accuracy: 0.6310 - val_loss: 0.9012 - val_accuracy: 0.5940\n",
      "Epoch 136/200\n",
      "34/34 [==============================] - 0s 4ms/step - loss: 0.8977 - accuracy: 0.6207 - val_loss: 0.8993 - val_accuracy: 0.6015\n",
      "Epoch 137/200\n",
      "34/34 [==============================] - 0s 4ms/step - loss: 0.8693 - accuracy: 0.6338 - val_loss: 0.9261 - val_accuracy: 0.6015\n",
      "Epoch 138/200\n",
      "34/34 [==============================] - 0s 4ms/step - loss: 0.8612 - accuracy: 0.6385 - val_loss: 0.9187 - val_accuracy: 0.6015\n",
      "Epoch 139/200\n",
      "34/34 [==============================] - 0s 4ms/step - loss: 0.8731 - accuracy: 0.6338 - val_loss: 0.9178 - val_accuracy: 0.6090\n",
      "Epoch 140/200\n",
      "34/34 [==============================] - 0s 4ms/step - loss: 0.8797 - accuracy: 0.6178 - val_loss: 0.9221 - val_accuracy: 0.5789\n",
      "Epoch 141/200\n",
      "34/34 [==============================] - 0s 4ms/step - loss: 0.8666 - accuracy: 0.6235 - val_loss: 0.9067 - val_accuracy: 0.6090\n",
      "Epoch 142/200\n",
      "34/34 [==============================] - 0s 4ms/step - loss: 0.8831 - accuracy: 0.6141 - val_loss: 0.8970 - val_accuracy: 0.6090\n",
      "Epoch 143/200\n",
      "34/34 [==============================] - 0s 4ms/step - loss: 0.8740 - accuracy: 0.6329 - val_loss: 0.8900 - val_accuracy: 0.6165\n",
      "Epoch 144/200\n",
      "34/34 [==============================] - 0s 4ms/step - loss: 0.8868 - accuracy: 0.6197 - val_loss: 0.8880 - val_accuracy: 0.6090\n",
      "Epoch 145/200\n",
      "34/34 [==============================] - 0s 4ms/step - loss: 0.8602 - accuracy: 0.6291 - val_loss: 0.9022 - val_accuracy: 0.5940\n",
      "Epoch 146/200\n",
      "34/34 [==============================] - 0s 4ms/step - loss: 0.8704 - accuracy: 0.6282 - val_loss: 0.9015 - val_accuracy: 0.6165\n",
      "Epoch 147/200\n",
      "34/34 [==============================] - 0s 4ms/step - loss: 0.8699 - accuracy: 0.6300 - val_loss: 0.9035 - val_accuracy: 0.6090\n",
      "Epoch 148/200\n",
      "34/34 [==============================] - 0s 4ms/step - loss: 0.8629 - accuracy: 0.6225 - val_loss: 0.9245 - val_accuracy: 0.6015\n",
      "Epoch 149/200\n",
      "34/34 [==============================] - 0s 4ms/step - loss: 0.8716 - accuracy: 0.6272 - val_loss: 0.9007 - val_accuracy: 0.6090\n",
      "Epoch 150/200\n",
      "34/34 [==============================] - 0s 4ms/step - loss: 0.8791 - accuracy: 0.6169 - val_loss: 0.9168 - val_accuracy: 0.6241\n",
      "Epoch 151/200\n",
      "34/34 [==============================] - 0s 4ms/step - loss: 0.8697 - accuracy: 0.6207 - val_loss: 0.9085 - val_accuracy: 0.5940\n",
      "Epoch 152/200\n",
      "34/34 [==============================] - 0s 4ms/step - loss: 0.8700 - accuracy: 0.6235 - val_loss: 0.8996 - val_accuracy: 0.6090\n",
      "Epoch 153/200\n",
      "34/34 [==============================] - 0s 4ms/step - loss: 0.8671 - accuracy: 0.6263 - val_loss: 0.9158 - val_accuracy: 0.5940\n",
      "Epoch 154/200\n",
      "34/34 [==============================] - 0s 4ms/step - loss: 0.8669 - accuracy: 0.6254 - val_loss: 0.9095 - val_accuracy: 0.5940\n",
      "Epoch 155/200\n",
      "34/34 [==============================] - 0s 4ms/step - loss: 0.8720 - accuracy: 0.6357 - val_loss: 0.9197 - val_accuracy: 0.5865\n",
      "Epoch 156/200\n",
      "34/34 [==============================] - 0s 4ms/step - loss: 0.8836 - accuracy: 0.6291 - val_loss: 0.9019 - val_accuracy: 0.5714\n",
      "Epoch 157/200\n",
      "34/34 [==============================] - 0s 4ms/step - loss: 0.8787 - accuracy: 0.6272 - val_loss: 0.9135 - val_accuracy: 0.5940\n",
      "Epoch 158/200\n",
      "34/34 [==============================] - 0s 4ms/step - loss: 0.8673 - accuracy: 0.6376 - val_loss: 0.9257 - val_accuracy: 0.5940\n",
      "Epoch 159/200\n",
      "34/34 [==============================] - 0s 4ms/step - loss: 0.8619 - accuracy: 0.6376 - val_loss: 0.9050 - val_accuracy: 0.5940\n",
      "Epoch 160/200\n",
      "34/34 [==============================] - 0s 4ms/step - loss: 0.8726 - accuracy: 0.6300 - val_loss: 0.9110 - val_accuracy: 0.5865\n",
      "Epoch 161/200\n",
      "34/34 [==============================] - 0s 4ms/step - loss: 0.8593 - accuracy: 0.6413 - val_loss: 0.9217 - val_accuracy: 0.6090\n",
      "Epoch 162/200\n",
      "34/34 [==============================] - 0s 4ms/step - loss: 0.8643 - accuracy: 0.6263 - val_loss: 0.9033 - val_accuracy: 0.5714\n",
      "Epoch 163/200\n",
      "34/34 [==============================] - 0s 5ms/step - loss: 0.8518 - accuracy: 0.6441 - val_loss: 0.9232 - val_accuracy: 0.6316\n",
      "Epoch 164/200\n",
      "34/34 [==============================] - 0s 4ms/step - loss: 0.8818 - accuracy: 0.6263 - val_loss: 0.9143 - val_accuracy: 0.5940\n",
      "Epoch 165/200\n",
      "34/34 [==============================] - 0s 4ms/step - loss: 0.8787 - accuracy: 0.6272 - val_loss: 0.9234 - val_accuracy: 0.5940\n",
      "Epoch 166/200\n",
      "34/34 [==============================] - 0s 4ms/step - loss: 0.8610 - accuracy: 0.6357 - val_loss: 0.9424 - val_accuracy: 0.6015\n",
      "Epoch 167/200\n",
      "34/34 [==============================] - 0s 4ms/step - loss: 0.8753 - accuracy: 0.6282 - val_loss: 0.9116 - val_accuracy: 0.6090\n",
      "Epoch 168/200\n",
      "34/34 [==============================] - 0s 4ms/step - loss: 0.8737 - accuracy: 0.6394 - val_loss: 0.9027 - val_accuracy: 0.6015\n",
      "Epoch 169/200\n",
      "34/34 [==============================] - 0s 4ms/step - loss: 0.8610 - accuracy: 0.6310 - val_loss: 0.9012 - val_accuracy: 0.6241\n",
      "Epoch 170/200\n",
      "34/34 [==============================] - 0s 4ms/step - loss: 0.8536 - accuracy: 0.6385 - val_loss: 0.9201 - val_accuracy: 0.5940\n",
      "Epoch 171/200\n",
      "34/34 [==============================] - 0s 4ms/step - loss: 0.8838 - accuracy: 0.6178 - val_loss: 0.8960 - val_accuracy: 0.5940\n",
      "Epoch 172/200\n",
      "34/34 [==============================] - 0s 4ms/step - loss: 0.8804 - accuracy: 0.6075 - val_loss: 0.9138 - val_accuracy: 0.6090\n",
      "Epoch 173/200\n",
      "34/34 [==============================] - 0s 4ms/step - loss: 0.8712 - accuracy: 0.6310 - val_loss: 0.8796 - val_accuracy: 0.6015\n",
      "Epoch 174/200\n",
      "34/34 [==============================] - 0s 4ms/step - loss: 0.8631 - accuracy: 0.6310 - val_loss: 0.9010 - val_accuracy: 0.6090\n",
      "Epoch 175/200\n",
      "34/34 [==============================] - 0s 4ms/step - loss: 0.8648 - accuracy: 0.6216 - val_loss: 0.8915 - val_accuracy: 0.5865\n",
      "Epoch 176/200\n",
      "34/34 [==============================] - 0s 4ms/step - loss: 0.8726 - accuracy: 0.6197 - val_loss: 0.9131 - val_accuracy: 0.6015\n",
      "Epoch 177/200\n",
      "34/34 [==============================] - 0s 5ms/step - loss: 0.8731 - accuracy: 0.6188 - val_loss: 0.9090 - val_accuracy: 0.5940\n",
      "Epoch 178/200\n",
      "34/34 [==============================] - 0s 4ms/step - loss: 0.8569 - accuracy: 0.6404 - val_loss: 0.9114 - val_accuracy: 0.5940\n",
      "Epoch 179/200\n",
      "34/34 [==============================] - 0s 4ms/step - loss: 0.8710 - accuracy: 0.6272 - val_loss: 0.9065 - val_accuracy: 0.6015\n",
      "Epoch 180/200\n",
      "34/34 [==============================] - 0s 4ms/step - loss: 0.8670 - accuracy: 0.6235 - val_loss: 0.8973 - val_accuracy: 0.6015\n",
      "Epoch 181/200\n",
      "34/34 [==============================] - 0s 4ms/step - loss: 0.8717 - accuracy: 0.6150 - val_loss: 0.8924 - val_accuracy: 0.6015\n",
      "Epoch 182/200\n",
      "34/34 [==============================] - 0s 4ms/step - loss: 0.8746 - accuracy: 0.6207 - val_loss: 0.9038 - val_accuracy: 0.6241\n",
      "Epoch 183/200\n",
      "34/34 [==============================] - 0s 4ms/step - loss: 0.8801 - accuracy: 0.6178 - val_loss: 0.8976 - val_accuracy: 0.6090\n",
      "Epoch 184/200\n",
      "34/34 [==============================] - 0s 4ms/step - loss: 0.8763 - accuracy: 0.6319 - val_loss: 0.8909 - val_accuracy: 0.6090\n",
      "Epoch 185/200\n",
      "34/34 [==============================] - 0s 4ms/step - loss: 0.8601 - accuracy: 0.6291 - val_loss: 0.9001 - val_accuracy: 0.6090\n",
      "Epoch 186/200\n",
      "34/34 [==============================] - 0s 4ms/step - loss: 0.8591 - accuracy: 0.6263 - val_loss: 0.9162 - val_accuracy: 0.6090\n",
      "Epoch 187/200\n",
      "34/34 [==============================] - 0s 4ms/step - loss: 0.8608 - accuracy: 0.6300 - val_loss: 0.9144 - val_accuracy: 0.6015\n",
      "Epoch 188/200\n",
      "34/34 [==============================] - 0s 4ms/step - loss: 0.8752 - accuracy: 0.6169 - val_loss: 0.8930 - val_accuracy: 0.5940\n",
      "Epoch 189/200\n",
      "34/34 [==============================] - 0s 4ms/step - loss: 0.8491 - accuracy: 0.6225 - val_loss: 0.9039 - val_accuracy: 0.6090\n",
      "Epoch 190/200\n",
      "34/34 [==============================] - 0s 4ms/step - loss: 0.8740 - accuracy: 0.6263 - val_loss: 0.9111 - val_accuracy: 0.6090\n",
      "Epoch 191/200\n",
      "34/34 [==============================] - 0s 4ms/step - loss: 0.8583 - accuracy: 0.6263 - val_loss: 0.9037 - val_accuracy: 0.6165\n",
      "Epoch 192/200\n",
      "34/34 [==============================] - 0s 4ms/step - loss: 0.8566 - accuracy: 0.6376 - val_loss: 0.9187 - val_accuracy: 0.5940\n",
      "Epoch 193/200\n",
      "34/34 [==============================] - 0s 4ms/step - loss: 0.8660 - accuracy: 0.6216 - val_loss: 0.9158 - val_accuracy: 0.6241\n",
      "Epoch 194/200\n",
      "34/34 [==============================] - 0s 4ms/step - loss: 0.8586 - accuracy: 0.6291 - val_loss: 0.9141 - val_accuracy: 0.6090\n",
      "Epoch 195/200\n",
      "34/34 [==============================] - 0s 5ms/step - loss: 0.8652 - accuracy: 0.6291 - val_loss: 0.9136 - val_accuracy: 0.6090\n",
      "Epoch 196/200\n",
      "34/34 [==============================] - 0s 6ms/step - loss: 0.8565 - accuracy: 0.6319 - val_loss: 0.9224 - val_accuracy: 0.6391\n",
      "Epoch 197/200\n",
      "34/34 [==============================] - 0s 5ms/step - loss: 0.8748 - accuracy: 0.6066 - val_loss: 0.9140 - val_accuracy: 0.6090\n",
      "Epoch 198/200\n",
      "34/34 [==============================] - 0s 5ms/step - loss: 0.8762 - accuracy: 0.6441 - val_loss: 0.8917 - val_accuracy: 0.6090\n",
      "Epoch 199/200\n",
      "34/34 [==============================] - 0s 5ms/step - loss: 0.8703 - accuracy: 0.6272 - val_loss: 0.9080 - val_accuracy: 0.6241\n",
      "Epoch 200/200\n",
      "34/34 [==============================] - 0s 4ms/step - loss: 0.8593 - accuracy: 0.6272 - val_loss: 0.8935 - val_accuracy: 0.6090\n"
     ]
    },
    {
     "data": {
      "text/plain": [
       "<keras.src.callbacks.History at 0x1f9432510c0>"
      ]
     },
     "execution_count": 306,
     "metadata": {},
     "output_type": "execute_result"
    }
   ],
   "source": [
    "# Epochs can be adjusted\n",
    "model.fit(x=X_train, y=y_train, epochs=200, validation_data=(X_val, y_val))"
   ]
  },
  {
   "cell_type": "code",
   "execution_count": 307,
   "metadata": {},
   "outputs": [
    {
     "data": {
      "text/plain": [
       "<Axes: >"
      ]
     },
     "execution_count": 307,
     "metadata": {},
     "output_type": "execute_result"
    },
    {
     "data": {
      "image/png": "[encoded data removed]",
      "text/plain": [
       "<Figure size 640x480 with 1 Axes>"
      ]
     },
     "metadata": {},
     "output_type": "display_data"
    }
   ],
   "source": [
    "loss_df = pd.DataFrame(model.history.history)\n",
    "loss_df[['loss', 'val_loss']].plot()"
   ]
  },
  {
   "cell_type": "code",
   "execution_count": 308,
   "metadata": {},
   "outputs": [
    {
     "data": {
      "text/plain": [
       "<Axes: >"
      ]
     },
     "execution_count": 308,
     "metadata": {},
     "output_type": "execute_result"
    },
    {
     "data": {
      "image/png": "[encoded data removed]",
      "text/plain": [
       "<Figure size 640x480 with 1 Axes>"
      ]
     },
     "metadata": {},
     "output_type": "display_data"
    }
   ],
   "source": [
    "loss_df[['accuracy', 'val_accuracy']].plot()"
   ]
  },
  {
   "cell_type": "code",
   "execution_count": 309,
   "metadata": {},
   "outputs": [
    {
     "name": "stdout",
     "output_type": "stream",
     "text": [
      "Test data evaluation:\n",
      "[1.0495872497558594, 0.5522388219833374]\n",
      "\n",
      "Train data evaluation:\n",
      "[0.8179137110710144, 0.6647887229919434]\n"
     ]
    }
   ],
   "source": [
    "# compare the final model loss/accuracy/evaluation values\n",
    "# the values should again match mostly\n",
    "print(\"Test data evaluation:\")\n",
    "print(model.evaluate(X_test, y_test, verbose=0))\n",
    "print(\"\\nTrain data evaluation:\")\n",
    "print(model.evaluate(X_train, y_train, verbose=0))"
   ]
  },
  {
   "cell_type": "code",
   "execution_count": 310,
   "metadata": {},
   "outputs": [
    {
     "name": "stdout",
     "output_type": "stream",
     "text": [
      "5/5 [==============================] - 0s 2ms/step\n"
     ]
    }
   ],
   "source": [
    "# get predictions and convert with argmax() to get categories \n",
    "# instead of raw probabilities\n",
    "test_predictions = model.predict(X_test)\n",
    "test_predictions = np.argmax(test_predictions, axis=1)\n",
    "\n",
    "# convert also y-test -values with argmax\n",
    "y_test = np.argmax(y_test, axis=1)"
   ]
  },
  {
   "cell_type": "code",
   "execution_count": 311,
   "metadata": {},
   "outputs": [
    {
     "data": {
      "text/plain": [
       "<Axes: >"
      ]
     },
     "execution_count": 311,
     "metadata": {},
     "output_type": "execute_result"
    },
    {
     "data": {
      "image/png": "[encoded data removed]",
      "text/plain": [
       "<Figure size 640x480 with 2 Axes>"
      ]
     },
     "metadata": {},
     "output_type": "display_data"
    }
   ],
   "source": [
    "# Original heatmap without label names\n",
    "# sns.heatmap(confusion_matrix(y_test, test_predictions), annot=True, fmt='g')\n",
    "\n",
    "# you can also use the actual names for the categories\n",
    "sns.heatmap(confusion_matrix(y_test, test_predictions), xticklabels=categories, yticklabels=categories, annot=True, fmt='g')"
   ]
  },
  {
   "cell_type": "code",
   "execution_count": 312,
   "metadata": {},
   "outputs": [
    {
     "name": "stdout",
     "output_type": "stream",
     "text": [
      "              precision    recall  f1-score   support\n",
      "\n",
      "           0       0.00      0.00      0.00         6\n",
      "           1       0.59      0.76      0.67        51\n",
      "           2       0.53      0.55      0.54        56\n",
      "           3       0.44      0.19      0.27        21\n",
      "\n",
      "    accuracy                           0.55       134\n",
      "   macro avg       0.39      0.38      0.37       134\n",
      "weighted avg       0.51      0.55      0.52       134\n",
      "\n",
      "\n",
      "Model overall accuracy: 55.22%\n"
     ]
    },
    {
     "name": "stderr",
     "output_type": "stream",
     "text": [
      "c:\\Users\\tomco\\Desktop\\Various Things\\Engineering Study\\Semester Spring 2024\\Deep Learning\\DeepLearning2024\\.venv\\lib\\site-packages\\sklearn\\metrics\\_classification.py:1497: UndefinedMetricWarning: Precision is ill-defined and being set to 0.0 in labels with no predicted samples. Use `zero_division` parameter to control this behavior.\n",
      "  _warn_prf(average, modifier, f\"{metric.capitalize()} is\", len(result))\n",
      "c:\\Users\\tomco\\Desktop\\Various Things\\Engineering Study\\Semester Spring 2024\\Deep Learning\\DeepLearning2024\\.venv\\lib\\site-packages\\sklearn\\metrics\\_classification.py:1497: UndefinedMetricWarning: Precision is ill-defined and being set to 0.0 in labels with no predicted samples. Use `zero_division` parameter to control this behavior.\n",
      "  _warn_prf(average, modifier, f\"{metric.capitalize()} is\", len(result))\n",
      "c:\\Users\\tomco\\Desktop\\Various Things\\Engineering Study\\Semester Spring 2024\\Deep Learning\\DeepLearning2024\\.venv\\lib\\site-packages\\sklearn\\metrics\\_classification.py:1497: UndefinedMetricWarning: Precision is ill-defined and being set to 0.0 in labels with no predicted samples. Use `zero_division` parameter to control this behavior.\n",
      "  _warn_prf(average, modifier, f\"{metric.capitalize()} is\", len(result))\n"
     ]
    }
   ],
   "source": [
    " # print the classification report based on true values and predictions\n",
    "print(classification_report(y_test, test_predictions))\n",
    "\n",
    "# get overall accuracy of the model and print it\n",
    "acc = accuracy_score(y_test, test_predictions)\n",
    "print(\"\\nModel overall accuracy: {:.2f}%\".format(acc * 100))"
   ]
  },
  {
   "cell_type": "code",
   "execution_count": 313,
   "metadata": {},
   "outputs": [
    {
     "name": "stdout",
     "output_type": "stream",
     "text": [
      " 1/42 [..............................] - ETA: 1s"
     ]
    },
    {
     "name": "stdout",
     "output_type": "stream",
     "text": [
      "42/42 [==============================] - 0s 3ms/step\n"
     ]
    },
    {
     "data": {
      "text/plain": [
       "0.8312057966339037"
      ]
     },
     "execution_count": 313,
     "metadata": {},
     "output_type": "execute_result"
    }
   ],
   "source": [
    "# get ROC-AUC -score\n",
    "roc_auc_score(y, model.predict(X), multi_class=\"ovr\")"
   ]
  }
 ],
 "metadata": {
  "kernelspec": {
   "display_name": ".venv",
   "language": "python",
   "name": "python3"
  },
  "language_info": {
   "codemirror_mode": {
    "name": "ipython",
    "version": 3
   },
   "file_extension": ".py",
   "mimetype": "text/x-python",
   "name": "python",
   "nbconvert_exporter": "python",
   "pygments_lexer": "ipython3",
   "version": "3.10.11"
  }
 },
 "nbformat": 4,
 "nbformat_minor": 2
}
