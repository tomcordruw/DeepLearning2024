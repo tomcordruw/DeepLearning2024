{
 "cells": [
  {
   "cell_type": "code",
   "execution_count": 2,
   "metadata": {},
   "outputs": [
    {
     "name": "stderr",
     "output_type": "stream",
     "text": [
      "C:\\Users\\tomco\\AppData\\Local\\Temp\\ipykernel_984\\975059756.py:2: DeprecationWarning: \n",
      "Pyarrow will become a required dependency of pandas in the next major release of pandas (pandas 3.0),\n",
      "(to allow more performant data types, such as the Arrow string type, and better interoperability with other libraries)\n",
      "but was not found to be installed on your system.\n",
      "If this would cause problems for you,\n",
      "please provide us feedback at https://github.com/pandas-dev/pandas/issues/54466\n",
      "        \n",
      "  import pandas as pd\n"
     ]
    },
    {
     "name": "stdout",
     "output_type": "stream",
     "text": [
      "WARNING:tensorflow:From c:\\Users\\tomco\\Desktop\\Various Things\\Engineering Study\\Semester Spring 2024\\Deep Learning\\DeepLearning2024\\.venv\\lib\\site-packages\\keras\\src\\losses.py:2976: The name tf.losses.sparse_softmax_cross_entropy is deprecated. Please use tf.compat.v1.losses.sparse_softmax_cross_entropy instead.\n",
      "\n"
     ]
    }
   ],
   "source": [
    "# pip install scikit-learn\n",
    "import pandas as pd\n",
    "import numpy as np\n",
    "import matplotlib.pyplot as plt\n",
    "import seaborn as sns\n",
    "from sklearn.model_selection import train_test_split\n",
    "from sklearn import metrics\n",
    "\n",
    "# pip install tensorflow\n",
    "import tensorflow as tf\n",
    "import keras\n",
    "from keras import layers"
   ]
  },
  {
   "cell_type": "markdown",
   "metadata": {},
   "source": [
    "<h4>Load the data in pandas, and inspect its features</h4>"
   ]
  },
  {
   "cell_type": "code",
   "execution_count": 3,
   "metadata": {},
   "outputs": [],
   "source": [
    "df = pd.read_csv(\"Household energy bill data.csv\")"
   ]
  },
  {
   "cell_type": "code",
   "execution_count": 4,
   "metadata": {},
   "outputs": [
    {
     "data": {
      "text/html": [
       "<div>\n",
       "<style scoped>\n",
       "    .dataframe tbody tr th:only-of-type {\n",
       "        vertical-align: middle;\n",
       "    }\n",
       "\n",
       "    .dataframe tbody tr th {\n",
       "        vertical-align: top;\n",
       "    }\n",
       "\n",
       "    .dataframe thead th {\n",
       "        text-align: right;\n",
       "    }\n",
       "</style>\n",
       "<table border=\"1\" class=\"dataframe\">\n",
       "  <thead>\n",
       "    <tr style=\"text-align: right;\">\n",
       "      <th></th>\n",
       "      <th>num_rooms</th>\n",
       "      <th>num_people</th>\n",
       "      <th>housearea</th>\n",
       "      <th>is_ac</th>\n",
       "      <th>is_tv</th>\n",
       "      <th>is_flat</th>\n",
       "      <th>ave_monthly_income</th>\n",
       "      <th>num_children</th>\n",
       "      <th>is_urban</th>\n",
       "      <th>amount_paid</th>\n",
       "    </tr>\n",
       "  </thead>\n",
       "  <tbody>\n",
       "    <tr>\n",
       "      <th>count</th>\n",
       "      <td>1000.000000</td>\n",
       "      <td>1000.000000</td>\n",
       "      <td>1000.000000</td>\n",
       "      <td>1000.000000</td>\n",
       "      <td>1000.000000</td>\n",
       "      <td>1000.000000</td>\n",
       "      <td>1000.000000</td>\n",
       "      <td>1000.000000</td>\n",
       "      <td>1000.000000</td>\n",
       "      <td>1000.000000</td>\n",
       "    </tr>\n",
       "    <tr>\n",
       "      <th>mean</th>\n",
       "      <td>1.962000</td>\n",
       "      <td>4.897000</td>\n",
       "      <td>794.703420</td>\n",
       "      <td>0.376000</td>\n",
       "      <td>0.798000</td>\n",
       "      <td>0.477000</td>\n",
       "      <td>24684.986550</td>\n",
       "      <td>1.078000</td>\n",
       "      <td>0.608000</td>\n",
       "      <td>600.396359</td>\n",
       "    </tr>\n",
       "    <tr>\n",
       "      <th>std</th>\n",
       "      <td>1.030348</td>\n",
       "      <td>2.007591</td>\n",
       "      <td>147.771736</td>\n",
       "      <td>0.484622</td>\n",
       "      <td>0.401693</td>\n",
       "      <td>0.499721</td>\n",
       "      <td>9678.228224</td>\n",
       "      <td>0.934232</td>\n",
       "      <td>0.488441</td>\n",
       "      <td>181.406210</td>\n",
       "    </tr>\n",
       "    <tr>\n",
       "      <th>min</th>\n",
       "      <td>-1.000000</td>\n",
       "      <td>-1.000000</td>\n",
       "      <td>244.400000</td>\n",
       "      <td>0.000000</td>\n",
       "      <td>0.000000</td>\n",
       "      <td>0.000000</td>\n",
       "      <td>-1576.440000</td>\n",
       "      <td>0.000000</td>\n",
       "      <td>0.000000</td>\n",
       "      <td>87.851850</td>\n",
       "    </tr>\n",
       "    <tr>\n",
       "      <th>25%</th>\n",
       "      <td>1.000000</td>\n",
       "      <td>4.000000</td>\n",
       "      <td>691.037500</td>\n",
       "      <td>0.000000</td>\n",
       "      <td>1.000000</td>\n",
       "      <td>0.000000</td>\n",
       "      <td>18036.762500</td>\n",
       "      <td>0.000000</td>\n",
       "      <td>0.000000</td>\n",
       "      <td>475.065141</td>\n",
       "    </tr>\n",
       "    <tr>\n",
       "      <th>50%</th>\n",
       "      <td>2.000000</td>\n",
       "      <td>5.000000</td>\n",
       "      <td>789.970000</td>\n",
       "      <td>0.000000</td>\n",
       "      <td>1.000000</td>\n",
       "      <td>0.000000</td>\n",
       "      <td>24742.575000</td>\n",
       "      <td>1.000000</td>\n",
       "      <td>1.000000</td>\n",
       "      <td>598.331726</td>\n",
       "    </tr>\n",
       "    <tr>\n",
       "      <th>75%</th>\n",
       "      <td>3.000000</td>\n",
       "      <td>6.000000</td>\n",
       "      <td>892.955000</td>\n",
       "      <td>1.000000</td>\n",
       "      <td>1.000000</td>\n",
       "      <td>1.000000</td>\n",
       "      <td>31402.357500</td>\n",
       "      <td>2.000000</td>\n",
       "      <td>1.000000</td>\n",
       "      <td>729.930489</td>\n",
       "    </tr>\n",
       "    <tr>\n",
       "      <th>max</th>\n",
       "      <td>5.000000</td>\n",
       "      <td>11.000000</td>\n",
       "      <td>1189.120000</td>\n",
       "      <td>1.000000</td>\n",
       "      <td>1.000000</td>\n",
       "      <td>1.000000</td>\n",
       "      <td>56531.080000</td>\n",
       "      <td>4.000000</td>\n",
       "      <td>1.000000</td>\n",
       "      <td>1102.994109</td>\n",
       "    </tr>\n",
       "  </tbody>\n",
       "</table>\n",
       "</div>"
      ],
      "text/plain": [
       "         num_rooms   num_people    housearea        is_ac        is_tv  \\\n",
       "count  1000.000000  1000.000000  1000.000000  1000.000000  1000.000000   \n",
       "mean      1.962000     4.897000   794.703420     0.376000     0.798000   \n",
       "std       1.030348     2.007591   147.771736     0.484622     0.401693   \n",
       "min      -1.000000    -1.000000   244.400000     0.000000     0.000000   \n",
       "25%       1.000000     4.000000   691.037500     0.000000     1.000000   \n",
       "50%       2.000000     5.000000   789.970000     0.000000     1.000000   \n",
       "75%       3.000000     6.000000   892.955000     1.000000     1.000000   \n",
       "max       5.000000    11.000000  1189.120000     1.000000     1.000000   \n",
       "\n",
       "           is_flat  ave_monthly_income  num_children     is_urban  amount_paid  \n",
       "count  1000.000000         1000.000000   1000.000000  1000.000000  1000.000000  \n",
       "mean      0.477000        24684.986550      1.078000     0.608000   600.396359  \n",
       "std       0.499721         9678.228224      0.934232     0.488441   181.406210  \n",
       "min       0.000000        -1576.440000      0.000000     0.000000    87.851850  \n",
       "25%       0.000000        18036.762500      0.000000     0.000000   475.065141  \n",
       "50%       0.000000        24742.575000      1.000000     1.000000   598.331726  \n",
       "75%       1.000000        31402.357500      2.000000     1.000000   729.930489  \n",
       "max       1.000000        56531.080000      4.000000     1.000000  1102.994109  "
      ]
     },
     "execution_count": 4,
     "metadata": {},
     "output_type": "execute_result"
    }
   ],
   "source": [
    "df.describe()"
   ]
  },
  {
   "cell_type": "code",
   "execution_count": 5,
   "metadata": {},
   "outputs": [
    {
     "data": {
      "text/html": [
       "<div>\n",
       "<style scoped>\n",
       "    .dataframe tbody tr th:only-of-type {\n",
       "        vertical-align: middle;\n",
       "    }\n",
       "\n",
       "    .dataframe tbody tr th {\n",
       "        vertical-align: top;\n",
       "    }\n",
       "\n",
       "    .dataframe thead th {\n",
       "        text-align: right;\n",
       "    }\n",
       "</style>\n",
       "<table border=\"1\" class=\"dataframe\">\n",
       "  <thead>\n",
       "    <tr style=\"text-align: right;\">\n",
       "      <th></th>\n",
       "      <th>num_rooms</th>\n",
       "      <th>num_people</th>\n",
       "      <th>housearea</th>\n",
       "      <th>is_ac</th>\n",
       "      <th>is_tv</th>\n",
       "      <th>is_flat</th>\n",
       "      <th>ave_monthly_income</th>\n",
       "      <th>num_children</th>\n",
       "      <th>is_urban</th>\n",
       "      <th>amount_paid</th>\n",
       "    </tr>\n",
       "  </thead>\n",
       "  <tbody>\n",
       "    <tr>\n",
       "      <th>0</th>\n",
       "      <td>3</td>\n",
       "      <td>3</td>\n",
       "      <td>742.57</td>\n",
       "      <td>1</td>\n",
       "      <td>1</td>\n",
       "      <td>1</td>\n",
       "      <td>9675.93</td>\n",
       "      <td>2</td>\n",
       "      <td>0</td>\n",
       "      <td>560.481447</td>\n",
       "    </tr>\n",
       "    <tr>\n",
       "      <th>1</th>\n",
       "      <td>1</td>\n",
       "      <td>5</td>\n",
       "      <td>952.99</td>\n",
       "      <td>0</td>\n",
       "      <td>1</td>\n",
       "      <td>0</td>\n",
       "      <td>35064.79</td>\n",
       "      <td>1</td>\n",
       "      <td>1</td>\n",
       "      <td>633.283679</td>\n",
       "    </tr>\n",
       "    <tr>\n",
       "      <th>2</th>\n",
       "      <td>3</td>\n",
       "      <td>1</td>\n",
       "      <td>761.44</td>\n",
       "      <td>1</td>\n",
       "      <td>1</td>\n",
       "      <td>1</td>\n",
       "      <td>22292.44</td>\n",
       "      <td>0</td>\n",
       "      <td>0</td>\n",
       "      <td>511.879157</td>\n",
       "    </tr>\n",
       "    <tr>\n",
       "      <th>3</th>\n",
       "      <td>0</td>\n",
       "      <td>5</td>\n",
       "      <td>861.32</td>\n",
       "      <td>1</td>\n",
       "      <td>1</td>\n",
       "      <td>0</td>\n",
       "      <td>12139.08</td>\n",
       "      <td>0</td>\n",
       "      <td>0</td>\n",
       "      <td>332.992035</td>\n",
       "    </tr>\n",
       "    <tr>\n",
       "      <th>4</th>\n",
       "      <td>1</td>\n",
       "      <td>8</td>\n",
       "      <td>731.61</td>\n",
       "      <td>0</td>\n",
       "      <td>1</td>\n",
       "      <td>0</td>\n",
       "      <td>17230.10</td>\n",
       "      <td>2</td>\n",
       "      <td>1</td>\n",
       "      <td>658.285625</td>\n",
       "    </tr>\n",
       "    <tr>\n",
       "      <th>5</th>\n",
       "      <td>0</td>\n",
       "      <td>5</td>\n",
       "      <td>837.24</td>\n",
       "      <td>0</td>\n",
       "      <td>1</td>\n",
       "      <td>1</td>\n",
       "      <td>24661.81</td>\n",
       "      <td>2</td>\n",
       "      <td>1</td>\n",
       "      <td>793.242346</td>\n",
       "    </tr>\n",
       "    <tr>\n",
       "      <th>6</th>\n",
       "      <td>4</td>\n",
       "      <td>5</td>\n",
       "      <td>679.04</td>\n",
       "      <td>0</td>\n",
       "      <td>1</td>\n",
       "      <td>0</td>\n",
       "      <td>28184.43</td>\n",
       "      <td>1</td>\n",
       "      <td>1</td>\n",
       "      <td>570.382845</td>\n",
       "    </tr>\n",
       "  </tbody>\n",
       "</table>\n",
       "</div>"
      ],
      "text/plain": [
       "   num_rooms  num_people  housearea  is_ac  is_tv  is_flat  \\\n",
       "0          3           3     742.57      1      1        1   \n",
       "1          1           5     952.99      0      1        0   \n",
       "2          3           1     761.44      1      1        1   \n",
       "3          0           5     861.32      1      1        0   \n",
       "4          1           8     731.61      0      1        0   \n",
       "5          0           5     837.24      0      1        1   \n",
       "6          4           5     679.04      0      1        0   \n",
       "\n",
       "   ave_monthly_income  num_children  is_urban  amount_paid  \n",
       "0             9675.93             2         0   560.481447  \n",
       "1            35064.79             1         1   633.283679  \n",
       "2            22292.44             0         0   511.879157  \n",
       "3            12139.08             0         0   332.992035  \n",
       "4            17230.10             2         1   658.285625  \n",
       "5            24661.81             2         1   793.242346  \n",
       "6            28184.43             1         1   570.382845  "
      ]
     },
     "execution_count": 5,
     "metadata": {},
     "output_type": "execute_result"
    }
   ],
   "source": [
    "df.head(7)"
   ]
  },
  {
   "cell_type": "markdown",
   "metadata": {},
   "source": [
    "<b>Always check for duplicates and missing data at first</b>"
   ]
  },
  {
   "cell_type": "code",
   "execution_count": 7,
   "metadata": {},
   "outputs": [
    {
     "data": {
      "text/plain": [
       "0"
      ]
     },
     "execution_count": 7,
     "metadata": {},
     "output_type": "execute_result"
    }
   ],
   "source": [
    "# No duplicates in this case\n",
    "df.duplicated().sum()"
   ]
  },
  {
   "cell_type": "code",
   "execution_count": 8,
   "metadata": {},
   "outputs": [
    {
     "data": {
      "text/plain": [
       "num_rooms             0\n",
       "num_people            0\n",
       "housearea             0\n",
       "is_ac                 0\n",
       "is_tv                 0\n",
       "is_flat               0\n",
       "ave_monthly_income    0\n",
       "num_children          0\n",
       "is_urban              0\n",
       "amount_paid           0\n",
       "dtype: int64"
      ]
     },
     "execution_count": 8,
     "metadata": {},
     "output_type": "execute_result"
    }
   ],
   "source": [
    "# Check any missing values and in which columns they are located\n",
    "# No missing values here either\n",
    "df.isna().sum()"
   ]
  },
  {
   "cell_type": "code",
   "execution_count": 9,
   "metadata": {},
   "outputs": [
    {
     "data": {
      "text/plain": [
       "<Axes: >"
      ]
     },
     "execution_count": 9,
     "metadata": {},
     "output_type": "execute_result"
    },
    {
     "data": {
      "image/png": "[encoded data removed]",
      "text/plain": [
       "<Figure size 640x480 with 1 Axes>"
      ]
     },
     "metadata": {},
     "output_type": "display_data"
    }
   ],
   "source": [
    "# The data appears to follow a normal distribution (at least for the electricity cost)\n",
    "df[\"amount_paid\"].hist()"
   ]
  },
  {
   "cell_type": "markdown",
   "metadata": {},
   "source": [
    "<b>Typically the data processing phase is a lot longer, but since this is a synthetic dataset it does not need much processing,</b>\n",
    "\n",
    "<b>therefore the data seems to be good to go at this point!</b>"
   ]
  },
  {
   "cell_type": "code",
   "execution_count": 12,
   "metadata": {},
   "outputs": [
    {
     "data": {
      "text/plain": [
       "Index(['num_rooms', 'num_people', 'housearea', 'is_ac', 'is_tv', 'is_flat',\n",
       "       'ave_monthly_income', 'num_children', 'is_urban', 'amount_paid'],\n",
       "      dtype='object')"
      ]
     },
     "execution_count": 12,
     "metadata": {},
     "output_type": "execute_result"
    }
   ],
   "source": [
    "df.columns"
   ]
  },
  {
   "cell_type": "code",
   "execution_count": null,
   "metadata": {},
   "outputs": [],
   "source": [
    "# if you have more than one independent variable, list them all here\n",
    "# leave out the target variable! (dependent variable)\n",
    "X = df[['num_rooms', 'num_people', 'housearea', 'is_ac', 'is_tv', 'is_flat',\n",
    "       'ave_monthly_income', 'num_children', 'is_urban']]\n",
    "\n",
    "# have only the target variable here (dependent variable)\n",
    "y = df['amount_paid']"
   ]
  },
  {
   "cell_type": "code",
   "execution_count": null,
   "metadata": {},
   "outputs": [],
   "source": []
  }
 ],
 "metadata": {
  "kernelspec": {
   "display_name": ".venv",
   "language": "python",
   "name": "python3"
  },
  "language_info": {
   "codemirror_mode": {
    "name": "ipython",
    "version": 3
   },
   "file_extension": ".py",
   "mimetype": "text/x-python",
   "name": "python",
   "nbconvert_exporter": "python",
   "pygments_lexer": "ipython3",
   "version": "3.10.11"
  }
 },
 "nbformat": 4,
 "nbformat_minor": 2
}
