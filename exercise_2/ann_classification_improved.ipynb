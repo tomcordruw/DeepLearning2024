{
 "cells": [
  {
   "cell_type": "code",
   "execution_count": 206,
   "metadata": {},
   "outputs": [],
   "source": [
    "import pandas as pd\n",
    "import numpy as np\n",
    "import matplotlib.pyplot as plt\n",
    "from IPython.display import clear_output\n",
    "import seaborn as sns\n",
    "from sklearn.model_selection import train_test_split\n",
    "from sklearn.preprocessing import OneHotEncoder, LabelEncoder\n",
    "from sklearn.preprocessing import MinMaxScaler, StandardScaler\n",
    "from sklearn import metrics\n",
    "from sklearn.metrics import classification_report\n",
    "from sklearn.metrics import confusion_matrix\n",
    "from sklearn.metrics import accuracy_score\n",
    "from sklearn.metrics import roc_auc_score\n",
    "from sklearn.feature_selection import SelectKBest\n",
    "from sklearn.feature_selection import chi2\n",
    "import tensorflow as tf\n",
    "import keras\n",
    "from keras import layers\n",
    "from keras.callbacks import ModelCheckpoint\n",
    "from keras.models import load_model"
   ]
  },
  {
   "cell_type": "markdown",
   "metadata": {},
   "source": [
    "Trying to make a more optimized version and adding other improvements compared to the first version in the file: ann_classification_basic.ipynb"
   ]
  },
  {
   "cell_type": "code",
   "execution_count": 207,
   "metadata": {},
   "outputs": [
    {
     "name": "stdout",
     "output_type": "stream",
     "text": [
      "Data before balancing:\n",
      "class\n",
      "GALAXY    59445\n",
      "STAR      21593\n",
      "QSO       18961\n",
      "Name: count, dtype: int64\n",
      "\n",
      "Data after balancing:\n",
      "class\n",
      "GALAXY    1000\n",
      "QSO       1000\n",
      "STAR      1000\n",
      "Name: count, dtype: int64\n"
     ]
    }
   ],
   "source": [
    "# Loading the data from .csv file\n",
    "df = pd.read_csv(\"star_classification.csv\")\n",
    "\n",
    "# Dropping columns unrelated to the class\n",
    "# I experimented with including some of these columns or dropping other columns\n",
    "# but it seems like I chose exactly the best set of features the first time around\n",
    "columns_to_drop = [\"obj_ID\", \"run_ID\", \"rerun_ID\", \"cam_col\", \"field_ID\", \"spec_obj_ID\", \"plate\", \"MJD\", \"fiber_ID\"]\n",
    "df = df.drop(columns_to_drop, axis=1)\n",
    "\n",
    "# Dropping one outlier I noticed (with multiple columns -9999)\n",
    "df.drop(79543, inplace=True)\n",
    "\n",
    "# Data has about 3 times as many galaxies compared to stars and quasar objects\n",
    "print(\"Data before balancing:\")\n",
    "print(df[\"class\"].value_counts())\n",
    "\n",
    "# This time I am balancing the three classes so they are equally represented\n",
    "# I group the dataframe by class so I can take an equal sample from each group\n",
    "grouped = df.groupby('class')\n",
    "class_samples = []\n",
    "\n",
    "# for each group, take 1000 samples and add to a list\n",
    "for group, data in grouped:\n",
    "    sample = data.sample(n=1000)\n",
    "    class_samples.append(sample)\n",
    "\n",
    "# Combine the three samples and print the class value counts to confirm\n",
    "df = pd.concat(class_samples)\n",
    "\n",
    "print(\"\\nData after balancing:\")\n",
    "print(df[\"class\"].value_counts())"
   ]
  },
  {
   "cell_type": "code",
   "execution_count": 194,
   "metadata": {},
   "outputs": [
    {
     "data": {
      "text/plain": [
       "Index(['alpha', 'delta', 'u', 'g', 'r', 'i', 'z', 'class', 'redshift'], dtype='object')"
      ]
     },
     "execution_count": 194,
     "metadata": {},
     "output_type": "execute_result"
    }
   ],
   "source": [
    "# Showing the columns to see what features there are and for convenience (to copy and paste)\n",
    "df.columns"
   ]
  },
  {
   "cell_type": "code",
   "execution_count": 195,
   "metadata": {},
   "outputs": [],
   "source": [
    "# Pairplot can give an idea about the important variables for predicting the class\n",
    "# Especially useful are features that make it easy to separate clusters of the classes\n",
    "# I don't want to plot this everytime, so it's commented out\n",
    "# sns.pairplot(data=df.sample(n=100), hue=\"class\")"
   ]
  },
  {
   "cell_type": "code",
   "execution_count": 196,
   "metadata": {},
   "outputs": [],
   "source": [
    "# X should only have the input features\n",
    "X = df.drop(\"class\", axis=1)\n",
    "\n",
    "# and y is the target class\n",
    "y = df['class']\n",
    "\n",
    "# Feature scaling\n",
    "feature_scaling = \"normalization\"\n",
    "\n",
    "\n",
    "# Determine type of feature scaling based on feature_scaling variable\n",
    "# Makes it easier in the end to test a prediction with the appropriate values\n",
    "# Normalization seems to work best, but not a huge improvement over no scaling\n",
    "if feature_scaling == \"normalization\":\n",
    "    # Normalization\n",
    "    X_sc = MinMaxScaler().fit_transform(X)\n",
    "elif feature_scaling == \"standardization\":\n",
    "    # Standardization\n",
    "    X_sc = StandardScaler().fit_transform(X)\n",
    "else:\n",
    "    # No scaling\n",
    "    X_sc = X\n",
    "\n",
    "# Encoding the label to be usable for the model\n",
    "le = LabelEncoder()\n",
    "y_enc = le.fit_transform(y)\n",
    "\n",
    "# Converting the label into a matrix form\n",
    "y = tf.keras.utils.to_categorical(y_enc)"
   ]
  },
  {
   "cell_type": "code",
   "execution_count": 197,
   "metadata": {},
   "outputs": [
    {
     "data": {
      "text/html": [
       "<div>\n",
       "<style scoped>\n",
       "    .dataframe tbody tr th:only-of-type {\n",
       "        vertical-align: middle;\n",
       "    }\n",
       "\n",
       "    .dataframe tbody tr th {\n",
       "        vertical-align: top;\n",
       "    }\n",
       "\n",
       "    .dataframe thead th {\n",
       "        text-align: right;\n",
       "    }\n",
       "</style>\n",
       "<table border=\"1\" class=\"dataframe\">\n",
       "  <thead>\n",
       "    <tr style=\"text-align: right;\">\n",
       "      <th></th>\n",
       "      <th>Features</th>\n",
       "      <th>Score</th>\n",
       "    </tr>\n",
       "  </thead>\n",
       "  <tbody>\n",
       "    <tr>\n",
       "      <th>7</th>\n",
       "      <td>redshift</td>\n",
       "      <td>2472.47</td>\n",
       "    </tr>\n",
       "    <tr>\n",
       "      <th>1</th>\n",
       "      <td>delta</td>\n",
       "      <td>371.29</td>\n",
       "    </tr>\n",
       "    <tr>\n",
       "      <th>6</th>\n",
       "      <td>z</td>\n",
       "      <td>127.57</td>\n",
       "    </tr>\n",
       "    <tr>\n",
       "      <th>5</th>\n",
       "      <td>i</td>\n",
       "      <td>111.48</td>\n",
       "    </tr>\n",
       "    <tr>\n",
       "      <th>4</th>\n",
       "      <td>r</td>\n",
       "      <td>78.65</td>\n",
       "    </tr>\n",
       "    <tr>\n",
       "      <th>3</th>\n",
       "      <td>g</td>\n",
       "      <td>63.17</td>\n",
       "    </tr>\n",
       "    <tr>\n",
       "      <th>0</th>\n",
       "      <td>alpha</td>\n",
       "      <td>57.91</td>\n",
       "    </tr>\n",
       "    <tr>\n",
       "      <th>2</th>\n",
       "      <td>u</td>\n",
       "      <td>57.02</td>\n",
       "    </tr>\n",
       "  </tbody>\n",
       "</table>\n",
       "</div>"
      ],
      "text/plain": [
       "   Features   Score\n",
       "7  redshift 2472.47\n",
       "1     delta  371.29\n",
       "6         z  127.57\n",
       "5         i  111.48\n",
       "4         r   78.65\n",
       "3         g   63.17\n",
       "0     alpha   57.91\n",
       "2         u   57.02"
      ]
     },
     "execution_count": 197,
     "metadata": {},
     "output_type": "execute_result"
    }
   ],
   "source": [
    "# Just confirming to see if the importance of certain features has changed\n",
    "# after balancing and scaling the data\n",
    "X_cat = X.astype(int)\n",
    "X_cat = X_cat.clip(lower=0)\n",
    "\n",
    "chi_2_features = SelectKBest(chi2, k=len(X_cat.columns))\n",
    "\n",
    "best_features = chi_2_features.fit(X_cat,y.astype(int))\n",
    "\n",
    "pd.options.display.float_format = '{:.2f}'.format\n",
    "\n",
    "df_features = pd.DataFrame(best_features.scores_)\n",
    "df_columns = pd.DataFrame(X_cat.columns)\n",
    "f_scores = pd.concat([df_columns,df_features],axis=1)\n",
    "f_scores.columns = ['Features','Score']\n",
    "f_scores.sort_values(by='Score',ascending=False)\n",
    "\n",
    "# Only some slight changes, alpha is quite a bit higher this time\n",
    "# otherwise not much difference"
   ]
  },
  {
   "cell_type": "code",
   "execution_count": 198,
   "metadata": {},
   "outputs": [],
   "source": [
    "# Train/test split 80/20\n",
    "X_train, X_temp, y_train, y_temp = train_test_split(X_sc, y, test_size=0.20)\n",
    "X_val, X_test, y_val, y_test = train_test_split(X_temp, y_temp, test_size=0.5)\n",
    "\n",
    "# Creating list of the categories or classes\n",
    "categories = list(np.unique(df['class']))"
   ]
  },
  {
   "cell_type": "code",
   "execution_count": 199,
   "metadata": {},
   "outputs": [],
   "source": [
    "# I really wanted real-time training graphs, so I looked into how it could be done\n",
    "# and found some good info about keras callbacks\n",
    "# after some trial and error I found this (mostly) functioning example:\n",
    "# https://gist.github.com/stared/dfb4dfaf6d9a8501cd1cc8b8cb806d2e\n",
    "# and after some modification I got it to work how I wanted it to\n",
    "\n",
    "class CustomCallback(keras.callbacks.Callback):\n",
    "    def on_train_begin(self, logs={}):\n",
    "        # Make lists of the finished epochs and training metrics\n",
    "        self.x = []\n",
    "        self.losses = []\n",
    "        self.val_losses = []\n",
    "        self.acc = []\n",
    "        self.val_acc = []    \n",
    "\n",
    "        # Create a figure for the plots\n",
    "        self.fig = plt.figure()\n",
    "\n",
    "    def on_epoch_end(self, epoch, logs={}):\n",
    "        # after each epoch, append the metrics to the lists\n",
    "        self.x.append(epoch)\n",
    "        self.losses.append(logs.get('loss'))\n",
    "        self.val_losses.append(logs.get('val_loss'))\n",
    "        self.acc.append(logs.get('accuracy'))\n",
    "        self.val_acc.append(logs.get('val_accuracy'))\n",
    "\n",
    "        f, (ax1, ax2) = plt.subplots(1, 2, figsize=(15, 5), sharex=True)\n",
    "\n",
    "        clear_output(wait=True)\n",
    "        \n",
    "        # and then do the actual plotting\n",
    "        ax1.plot(self.losses, label=\"loss\")\n",
    "        ax1.plot(self.val_losses, label=\"val_loss\")\n",
    "        ax1.legend()\n",
    "        \n",
    "        ax2.plot(self.acc, label=\"accuracy\")\n",
    "        ax2.plot(self.val_acc, label=\"validation accuracy\")\n",
    "        ax2.legend()\n",
    "        plt.show()"
   ]
  },
  {
   "cell_type": "code",
   "execution_count": 200,
   "metadata": {},
   "outputs": [
    {
     "name": "stdout",
     "output_type": "stream",
     "text": [
      "Model: \"sequential_7\"\n",
      "_________________________________________________________________\n",
      " Layer (type)                Output Shape              Param #   \n",
      "=================================================================\n",
      " batch_normalization_7 (Bat  (None, 8)                 32        \n",
      " chNormalization)                                                \n",
      "                                                                 \n",
      " dense_35 (Dense)            (None, 16)                144       \n",
      "                                                                 \n",
      " dense_36 (Dense)            (None, 32)                544       \n",
      "                                                                 \n",
      " dense_37 (Dense)            (None, 128)               4224      \n",
      "                                                                 \n",
      " dense_38 (Dense)            (None, 64)                8256      \n",
      "                                                                 \n",
      " dense_39 (Dense)            (None, 3)                 195       \n",
      "                                                                 \n",
      "=================================================================\n",
      "Total params: 13395 (52.32 KB)\n",
      "Trainable params: 13379 (52.26 KB)\n",
      "Non-trainable params: 16 (64.00 Byte)\n",
      "_________________________________________________________________\n"
     ]
    }
   ],
   "source": [
    "# Creating the neural network\n",
    "\n",
    "# Some additions here to try to improve the resulting model\n",
    "\n",
    "# Model checkpoint for saving the best model\n",
    "mc = ModelCheckpoint(\"best_model.keras\", monitor='val_loss', mode='min', save_best_only=True)\n",
    "\n",
    "# Reducing the learning rate on plateau\n",
    "rd_lr_op = keras.callbacks.ReduceLROnPlateau(monitor=\"val_loss\", factor=0.5, patience=20, min_lr=0.00001)\n",
    "\n",
    "# early stop so I don't need to meddle with the number of epochs so much\n",
    "early_stop = keras.callbacks.EarlyStopping(monitor=\"val_loss\", patience=50, verbose=1),\n",
    "create_plots = CustomCallback()\n",
    "\n",
    "# Creating a list of callbacks\n",
    "callback_list = [mc, rd_lr_op, early_stop, create_plots]\n",
    "\n",
    "# (Hopefully better) neural network for classification\n",
    "model = keras.Sequential(\n",
    "    [\n",
    "        layers.BatchNormalization(input_shape=(len(X.columns),)),\n",
    "        layers.Dense(16, activation=\"relu\", input_shape=(len(X.columns),)),\n",
    "        layers.Dense(32, activation=\"relu\", kernel_regularizer=keras.regularizers.l1(l1=0.1)),\n",
    "        layers.Dense(128, activation=\"relu\"),\n",
    "        layers.Dense(64, activation=\"relu\"),\n",
    "        layers.Dense(len(categories), activation=\"softmax\")\n",
    "    ]\n",
    ")\n",
    "\n",
    "# Model compilation and some info about the model\n",
    "model.compile(optimizer=\"adam\", loss='categorical_crossentropy', metrics=['accuracy'])\n",
    "model.summary()"
   ]
  },
  {
   "cell_type": "markdown",
   "metadata": {},
   "source": [
    "I think in this case the data is again relatively simple to understand, so more complex layer architectures don't do too much.\n",
    "\n",
    "I tried the other regularizers, but none of them seemed like an improvement here.\n",
    "\n",
    "Dropout layers also didn't affect much in a clear way.\n",
    "\n",
    "A big problem is that often when I thought I found a better configuration, it actually was just a random improvement based on the random seed,\n",
    "leading me to believe that it made a positive difference."
   ]
  },
  {
   "cell_type": "code",
   "execution_count": 201,
   "metadata": {},
   "outputs": [
    {
     "data": {
      "image/png": "[encoded data removed]",
      "text/plain": [
       "<Figure size 1500x500 with 2 Axes>"
      ]
     },
     "metadata": {},
     "output_type": "display_data"
    },
    {
     "name": "stdout",
     "output_type": "stream",
     "text": [
      "75/75 [==============================] - 0s 5ms/step - loss: 0.2822 - accuracy: 0.9054 - val_loss: 0.2468 - val_accuracy: 0.9333 - lr: 3.1250e-05\n",
      "Epoch 243: early stopping\n"
     ]
    }
   ],
   "source": [
    "# Fitting the model\n",
    "model.fit(x=X_train, y=y_train, epochs=500, validation_data=(X_val, y_val), callbacks=callback_list)\n",
    "\n",
    "# Returning the best model\n",
    "best_model = load_model(\"best_model.keras\")"
   ]
  },
  {
   "cell_type": "code",
   "execution_count": 202,
   "metadata": {},
   "outputs": [
    {
     "name": "stdout",
     "output_type": "stream",
     "text": [
      "Test data evaluation:\n",
      "[0.21698956191539764, 0.949999988079071]\n",
      "\n",
      "Train data evaluation:\n",
      "[0.2139131873846054, 0.9379166960716248]\n"
     ]
    }
   ],
   "source": [
    "# Using the best model for evaluation\n",
    "model = best_model\n",
    "\n",
    "# Comparing the model's loss/accuracy/evaluation values between train and test\n",
    "print(\"Test data evaluation:\")\n",
    "print(model.evaluate(X_test, y_test, verbose=0))\n",
    "print(\"\\nTrain data evaluation:\")\n",
    "print(model.evaluate(X_train, y_train, verbose=0))\n",
    "\n",
    "# They seem quite close luckily"
   ]
  },
  {
   "cell_type": "code",
   "execution_count": 203,
   "metadata": {},
   "outputs": [
    {
     "name": "stdout",
     "output_type": "stream",
     "text": [
      "10/10 [==============================] - 0s 945us/step\n"
     ]
    },
    {
     "data": {
      "text/plain": [
       "<Axes: >"
      ]
     },
     "execution_count": 203,
     "metadata": {},
     "output_type": "execute_result"
    },
    {
     "data": {
      "image/png": "[encoded data removed]",
      "text/plain": [
       "<Figure size 640x480 with 2 Axes>"
      ]
     },
     "metadata": {},
     "output_type": "display_data"
    }
   ],
   "source": [
    "# Getting model predictions for all classes\n",
    "# Then choosing the category with the highest predicted likelihood\n",
    "test_predictions = model.predict(X_test)\n",
    "test_predictions = np.argmax(test_predictions, axis=1)\n",
    "\n",
    "# Converting also y_test\n",
    "y_test = np.argmax(y_test, axis=1)\n",
    "\n",
    "# Confusion matrix heatmap with category names\n",
    "sns.heatmap(confusion_matrix(y_test, test_predictions), xticklabels=categories, yticklabels=categories, annot=True, fmt='g')"
   ]
  },
  {
   "cell_type": "code",
   "execution_count": 204,
   "metadata": {},
   "outputs": [
    {
     "name": "stdout",
     "output_type": "stream",
     "text": [
      "              precision    recall  f1-score   support\n",
      "\n",
      "      GALAXY       0.94      0.91      0.92        97\n",
      "         QSO       0.97      0.96      0.97       101\n",
      "        STAR       0.94      0.98      0.96       102\n",
      "\n",
      "    accuracy                           0.95       300\n",
      "   macro avg       0.95      0.95      0.95       300\n",
      "weighted avg       0.95      0.95      0.95       300\n",
      "\n",
      "\n",
      "Overall model accuracy: 95.00%\n",
      "94/94 [==============================] - 0s 1ms/step\n",
      "ROC-AUC-score: 0.98614\n"
     ]
    }
   ],
   "source": [
    "# Classification report based on true values and predictions\n",
    "print(classification_report(y_test, test_predictions, target_names=categories))\n",
    "\n",
    "# Printing overall accuracy of the model in a nicer format\n",
    "acc = accuracy_score(y_test, test_predictions)\n",
    "print(\"\\nOverall model accuracy: {:.2f}%\".format(acc * 100))\n",
    "\n",
    "# Computing the ROC-AUC -score\n",
    "print(\"ROC-AUC-score: {}\".format(round(roc_auc_score(y, model.predict(X_sc), multi_class=\"ovr\"), 5)))"
   ]
  },
  {
   "cell_type": "markdown",
   "metadata": {},
   "source": [
    "I am quite happy with this, 95% overall accuracy and close to 0.99 ROC-AUC score seems decent and are a slight improvement over the basic version.\n",
    "Still, when thinking about the pairplots before, especially looking at the redshift,\n",
    "I can't help but think that it should be quite easy to separate the classes with almost 100% accuracy.\n",
    "Maybe a SVM or other ML algorithm could do better here than a neural network."
   ]
  },
  {
   "cell_type": "code",
   "execution_count": 210,
   "metadata": {},
   "outputs": [],
   "source": [
    "# When wanting to use the model without retraining\n",
    "#model = keras.saving.load_model(\"best_model.keras\")"
   ]
  },
  {
   "cell_type": "code",
   "execution_count": 211,
   "metadata": {},
   "outputs": [
    {
     "name": "stdout",
     "output_type": "stream",
     "text": [
      "   alpha  delta    u    g    r    i    z  redshift\n",
      "0   0.99   0.20 0.45 0.57 0.65 0.62 0.74      0.20\n",
      "1/1 [==============================] - 0s 94ms/step\n",
      "Row 282 was randomly selected from the dataset:\n",
      "{'alpha': 0.9945097599388424, 'delta': 0.20228503466068423, 'u': 0.4475574962949398, 'g': 0.5678564100397703, 'r': 0.6482391949238684, 'i': 0.615695812870529, 'z': 0.7375301940098498, 'redshift': 0.20413162130926732}\n",
      "------------------------------\n",
      "Model prediction:\n",
      "\n",
      "The model predicts 23.79% chance for class GALAXY.\n",
      "The model predicts 76.21% chance for class QSO.\n",
      "The model predicts 0.0% chance for class STAR.\n",
      "\n",
      "Predicted star class: QSO\n",
      "Correct star class: QSO\n"
     ]
    }
   ],
   "source": [
    "# Making own predictions\n",
    "\n",
    "# For test predictions with imaginary data\n",
    "# it is important to know what kind of values the features usually take in the data\n",
    "\n",
    "# Looking at the descriptions of data based on class:\n",
    "# Galaxies have a mean redshift of 0.42 with max value 2\n",
    "# Quasars have a mean redshift of 1.72 with max 7\n",
    "# Stars all have 0 redshift\n",
    "# Which is not true, but just a flaw of the data\n",
    "# Since stars with noticeable redshift are so far away that they are almost impossible to record\n",
    "# So they are just not represented in the data\n",
    "# Of course galaxies are massive and contain a lot of things, so we can spot ones very far away\n",
    "# And quasars are extreme objects that we can detect a huge distance away\n",
    "# Thus redshift mostly just gives us an idea about the distance we can detect the object\n",
    "# and how rare they are (there are very few quasars, so ones close to us with low redshift are rare)\n",
    "\n",
    "# The other values all look really similarly distributed, so I feel like there almost isn't much of a point to come up with imaginary data here\n",
    "# I tested around a bit nonetheless and could notice the biggest difference by changing the redshift\n",
    "# Redshift is by far the most important factor, so logically when dropping it, the model gets a lot worse\n",
    "# Although interestingly, I still got accuracies between 70-80%, meaning that these other variables relate to the classes\n",
    "\n",
    "# Custom test row if desired (only works if no feature scaling is applied)\n",
    "# test_row = {\n",
    "#     'alpha': 140, \n",
    "#     'delta': 35, \n",
    "#     'u': 25, \n",
    "#     'g': 23, \n",
    "#     'r': 20, \n",
    "#     'i': 20, \n",
    "#     'z': 19,\n",
    "#     'redshift': 4\n",
    "# }\n",
    "\n",
    "# Instead of making own predictions, I think it makes more sense here to \n",
    "# take a random sample from the dataset\n",
    "# and see what the model says vs. the actual class\n",
    "columns = ['alpha', 'delta', 'u', 'g', 'r', 'i', 'z', 'redshift']\n",
    "\n",
    "if feature_scaling == \"normalization\":\n",
    "    df[columns] = MinMaxScaler().fit_transform(df[columns])\n",
    "elif feature_scaling == \"standardization\":\n",
    "    df[columns] = StandardScaler().fit_transform(df[columns])\n",
    "\n",
    "# Taking a random sample\n",
    "random_sample = df.sample()\n",
    "\n",
    "# Saving the actual class\n",
    "correct_class = random_sample[\"class\"].values[0]\n",
    "\n",
    "# input variables\n",
    "test_row = random_sample[columns].to_dict(orient='records')[0]\n",
    "\n",
    "# and row index\n",
    "row_number = random_sample.index.values[0]\n",
    "\n",
    "\n",
    "# convert to pandas-format\n",
    "tester_row = pd.DataFrame([test_row])\n",
    "print(tester_row)\n",
    "result = model.predict(tester_row)[0]\n",
    "\n",
    "\n",
    "result_index = np.argmax(result)\n",
    "\n",
    "# print the category name from its index\n",
    "result_text = categories[result_index]\n",
    "\n",
    "# print the result\n",
    "print(f\"Row {row_number} was randomly selected from the dataset:\\n{test_row}\")\n",
    "print(\"------------------------------\")\n",
    "print(\"Model prediction:\\n\")\n",
    "for i, category in enumerate(categories):\n",
    "    print(f\"The model predicts {round(result[i]*100, 2)}% chance for class {category}.\")\n",
    "print(f\"\\nPredicted star class: {result_text}\")\n",
    "print(f\"Correct star class: {correct_class}\")"
   ]
  },
  {
   "cell_type": "code",
   "execution_count": null,
   "metadata": {},
   "outputs": [],
   "source": [
    "# Further thoughts:\n",
    "# I still am unsatisfied with how little intuition I have about the layer architecture\n",
    "# It's easy to tell if the neural network is too simple and constrains the model performance\n",
    "# due to a lack of layers/nodes\n",
    "# But apart from that it seems really random and rather limited by the data and preprocessing\n",
    "# Maybe it's not too different from real life, once you have a \"brain\" that's sufficiently powerful for the problem, \n",
    "# it matters much more how and how long something is learned\n",
    "# Also it helps to remember that, depending on the data, there is a hard limit of how well something can be predicted, no matter what\n",
    "# Still, I have a feeling that there is more left for us to understand about what the number of layers and nodes effectively does\n",
    "# From some quick research, I read that a good general approach is to try at first to have a larger number of nodes/layers than necessary\n",
    "# and then go down from there to find a sweet spot in efficiency\n",
    "# I think that so far that seems like a reasonable approach for most cases I have faced as of now\n",
    "\n",
    "# As for the applications of classification in work life, I think it's fairly easy to see \n",
    "# Being able to have a class prediction tool can be good to make decisions \n",
    "# that would take too long or are unfeasible to make for a person lacking the domain knowledge\n",
    "# or where humans haven't been able to figure out a problem\n",
    "# As the world currently is very financially-oriented, many applications are about profit\n",
    "# things like predicting a what product a customer could most easily be influenced to buy (with advertising)\n",
    "# or predicting the type of fault in a device/machine most likely to occur for predictive maintenance\n",
    "# medical use is also often suitable - classifying if someone is sick or has a specific disease\n",
    "# so they can be treated early and effectively\n",
    "# A lot of smart/IoT devices could be made more useful and powerful with classification\n",
    "# a car could determine what things to do based on the type of weather/conditions\n",
    "# image detection also belongs to classification and has many uses\n",
    "\n",
    "# I think it was very nice and comprehensible to do the basic classification network training\n",
    "# but it gets trickier when you try to optimize and improve after finding the first decent solution\n",
    "# It's often said that the first 90% of work take 10% of the time\n",
    "# while final 10% of work take 90% of the time\n",
    "# I felt that this exercise project was a prime example, and in the end my model barely performs any better\n",
    "# But I did learn a lot and made some other changes that will be useful to know in the future\n",
    "\n",
    "# For additional optimizations I think I would try to delve more deeply into the science behind the features of stellar objects\n",
    "# and probably try to create a model that doesn't use the redshift, as it is only a good metric because of the sample bias\n",
    "# The most useful model would be something that immediately makes a classification based on an astronomical photo/observation\n",
    "# So maybe a space telescope is looking at objects and could be able to quickly classify them to determine\n",
    "# if it's worth taking higher resolution images of a certain object or direction in space"
   ]
  }
 ],
 "metadata": {
  "kernelspec": {
   "display_name": ".venv",
   "language": "python",
   "name": "python3"
  },
  "language_info": {
   "codemirror_mode": {
    "name": "ipython",
    "version": 3
   },
   "file_extension": ".py",
   "mimetype": "text/x-python",
   "name": "python",
   "nbconvert_exporter": "python",
   "pygments_lexer": "ipython3",
   "version": "3.10.11"
  }
 },
 "nbformat": 4,
 "nbformat_minor": 2
}
