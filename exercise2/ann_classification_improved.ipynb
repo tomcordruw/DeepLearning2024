{
 "cells": [
  {
   "cell_type": "code",
   "execution_count": 157,
   "metadata": {},
   "outputs": [],
   "source": [
    "import pandas as pd\n",
    "import numpy as np\n",
    "import matplotlib.pyplot as plt\n",
    "import seaborn as sns\n",
    "from sklearn.model_selection import train_test_split\n",
    "from sklearn.preprocessing import OneHotEncoder, LabelEncoder\n",
    "from sklearn.preprocessing import MinMaxScaler, StandardScaler\n",
    "from sklearn import metrics\n",
    "from sklearn.metrics import classification_report\n",
    "from sklearn.metrics import confusion_matrix\n",
    "from sklearn.metrics import accuracy_score\n",
    "from sklearn.metrics import roc_auc_score\n",
    "from sklearn.feature_selection import SelectKBest\n",
    "from sklearn.feature_selection import chi2\n",
    "import tensorflow as tf\n",
    "import keras\n",
    "from keras import layers"
   ]
  },
  {
   "cell_type": "code",
   "execution_count": 158,
   "metadata": {},
   "outputs": [
    {
     "name": "stdout",
     "output_type": "stream",
     "text": [
      "class\n",
      "GALAXY    59445\n",
      "STAR      21594\n",
      "QSO       18961\n",
      "Name: count, dtype: int64\n"
     ]
    }
   ],
   "source": [
    "# Trying to make an improved version\n",
    "df = pd.read_csv(\"star_classification.csv\")\n",
    "\n",
    "# Dropping columns unrelated to the class\n",
    "columns_to_drop = [\"obj_ID\", \"run_ID\", \"rerun_ID\", \"cam_col\", \"field_ID\", \"spec_obj_ID\", \"plate\", \"MJD\", \"fiber_ID\"]\n",
    "df = df.drop(columns_to_drop, axis=1)\n",
    "\n",
    "print(df[\"class\"].value_counts())\n",
    "# This time I am balancing the three star classes so they are equally represented\n",
    "grouped = df.groupby('class')\n",
    "class_samples = []\n",
    "\n",
    "for group, data in grouped:\n",
    "    sample = data.sample(n=1000)\n",
    "    class_samples.append(sample)\n",
    "\n",
    "balanced_df = pd.concat(class_samples)"
   ]
  },
  {
   "cell_type": "code",
   "execution_count": 159,
   "metadata": {},
   "outputs": [
    {
     "name": "stdout",
     "output_type": "stream",
     "text": [
      "class\n",
      "GALAXY    1000\n",
      "QSO       1000\n",
      "STAR      1000\n",
      "Name: count, dtype: int64\n"
     ]
    }
   ],
   "source": [
    "df = balanced_df\n",
    "print(df[\"class\"].value_counts())\n",
    "# Pairplot can give an idea about the important variables for predicting the class\n",
    "# Especially useful are features that make it easy to separate clusters of the classes\n",
    "#sns.pairplot(data=df.sample(n=100), hue=\"class\")"
   ]
  },
  {
   "cell_type": "code",
   "execution_count": 160,
   "metadata": {},
   "outputs": [],
   "source": [
    "# everything else except the target variable\n",
    "X = df.drop(\"class\", axis=1)\n",
    "\n",
    "# have only the target variable here (dependent variable)\n",
    "y = df['class']\n",
    "\n",
    "# Normalization\n",
    "#X_mm = MinMaxScaler().fit_transform(X)\n",
    "X_mm = StandardScaler().fit_transform(X)\n",
    "\n",
    "# since we are doing classification, we have to process our target values with an encoder\n",
    "# and convert them into a categorical TensorFlow/Keras -format \n",
    "le = LabelEncoder()\n",
    "y_enc = le.fit_transform(y)\n",
    "\n",
    "# Converting the label into a matrix form\n",
    "y = tf.keras.utils.to_categorical(y_enc)"
   ]
  },
  {
   "cell_type": "code",
   "execution_count": 161,
   "metadata": {},
   "outputs": [
    {
     "data": {
      "text/html": [
       "<div>\n",
       "<style scoped>\n",
       "    .dataframe tbody tr th:only-of-type {\n",
       "        vertical-align: middle;\n",
       "    }\n",
       "\n",
       "    .dataframe tbody tr th {\n",
       "        vertical-align: top;\n",
       "    }\n",
       "\n",
       "    .dataframe thead th {\n",
       "        text-align: right;\n",
       "    }\n",
       "</style>\n",
       "<table border=\"1\" class=\"dataframe\">\n",
       "  <thead>\n",
       "    <tr style=\"text-align: right;\">\n",
       "      <th></th>\n",
       "      <th>Features</th>\n",
       "      <th>Score</th>\n",
       "    </tr>\n",
       "  </thead>\n",
       "  <tbody>\n",
       "    <tr>\n",
       "      <th>7</th>\n",
       "      <td>redshift</td>\n",
       "      <td>2265.00</td>\n",
       "    </tr>\n",
       "    <tr>\n",
       "      <th>0</th>\n",
       "      <td>alpha</td>\n",
       "      <td>443.56</td>\n",
       "    </tr>\n",
       "    <tr>\n",
       "      <th>1</th>\n",
       "      <td>delta</td>\n",
       "      <td>181.87</td>\n",
       "    </tr>\n",
       "    <tr>\n",
       "      <th>6</th>\n",
       "      <td>z</td>\n",
       "      <td>143.02</td>\n",
       "    </tr>\n",
       "    <tr>\n",
       "      <th>5</th>\n",
       "      <td>i</td>\n",
       "      <td>125.30</td>\n",
       "    </tr>\n",
       "    <tr>\n",
       "      <th>4</th>\n",
       "      <td>r</td>\n",
       "      <td>85.15</td>\n",
       "    </tr>\n",
       "    <tr>\n",
       "      <th>3</th>\n",
       "      <td>g</td>\n",
       "      <td>64.76</td>\n",
       "    </tr>\n",
       "    <tr>\n",
       "      <th>2</th>\n",
       "      <td>u</td>\n",
       "      <td>56.51</td>\n",
       "    </tr>\n",
       "  </tbody>\n",
       "</table>\n",
       "</div>"
      ],
      "text/plain": [
       "   Features   Score\n",
       "7  redshift 2265.00\n",
       "0     alpha  443.56\n",
       "1     delta  181.87\n",
       "6         z  143.02\n",
       "5         i  125.30\n",
       "4         r   85.15\n",
       "3         g   64.76\n",
       "2         u   56.51"
      ]
     },
     "execution_count": 161,
     "metadata": {},
     "output_type": "execute_result"
    }
   ],
   "source": [
    "# convert all continuous variables to integer,\n",
    "# and convert all negative numbers to 0\n",
    "X_cat = X.astype(int)\n",
    "X_cat = X_cat.clip(lower=0)\n",
    "\n",
    "# initialize chi2 and SelectKBest\n",
    "# Note: chi2 -test is a very common test\n",
    "# in statistics and quantitative analysis\n",
    "# basically it studies the data whether variables are related\n",
    "# or independent of each other\n",
    "chi_2_features = SelectKBest(chi2, k=len(X_cat.columns))\n",
    "\n",
    "# fit our data to the SelectKBest\n",
    "best_features = chi_2_features.fit(X_cat,y.astype(int))\n",
    "\n",
    "# use decimal format in table print later\n",
    "pd.options.display.float_format = '{:.2f}'.format\n",
    "\n",
    "# wrap it up, and show the results\n",
    "# the higher the score, the more effect that column has on price\n",
    "df_features = pd.DataFrame(best_features.scores_)\n",
    "df_columns = pd.DataFrame(X_cat.columns)\n",
    "f_scores = pd.concat([df_columns,df_features],axis=1)\n",
    "f_scores.columns = ['Features','Score']\n",
    "f_scores.sort_values(by='Score',ascending=False)"
   ]
  },
  {
   "cell_type": "code",
   "execution_count": 162,
   "metadata": {},
   "outputs": [],
   "source": [
    "# Train/test split\n",
    "X_train, X_temp, y_train, y_temp = train_test_split(X, y, test_size=0.20)\n",
    "X_val, X_test, y_val, y_test = train_test_split(X_temp, y_temp, test_size=0.5)\n",
    "\n",
    "# Creating list of the categories\n",
    "categories = list(np.unique(df['class']))"
   ]
  },
  {
   "cell_type": "code",
   "execution_count": 163,
   "metadata": {},
   "outputs": [
    {
     "name": "stderr",
     "output_type": "stream",
     "text": [
      "WARNING:absl:`lr` is deprecated in Keras optimizer, please use `learning_rate` or use the legacy optimizer, e.g.,tf.keras.optimizers.legacy.Adam.\n"
     ]
    },
    {
     "name": "stdout",
     "output_type": "stream",
     "text": [
      "Model: \"sequential_12\"\n",
      "_________________________________________________________________\n",
      " Layer (type)                Output Shape              Param #   \n",
      "=================================================================\n",
      " batch_normalization_12 (Ba  (None, 8)                 32        \n",
      " tchNormalization)                                               \n",
      "                                                                 \n",
      " dense_57 (Dense)            (None, 16)                144       \n",
      "                                                                 \n",
      " dense_58 (Dense)            (None, 128)               2176      \n",
      "                                                                 \n",
      " dropout_8 (Dropout)         (None, 128)               0         \n",
      "                                                                 \n",
      " dense_59 (Dense)            (None, 3)                 387       \n",
      "                                                                 \n",
      "=================================================================\n",
      "Total params: 2739 (10.70 KB)\n",
      "Trainable params: 2723 (10.64 KB)\n",
      "Non-trainable params: 16 (64.00 Byte)\n",
      "_________________________________________________________________\n"
     ]
    }
   ],
   "source": [
    "# Hopefully better neural network for classification\n",
    "model = keras.Sequential(\n",
    "    [\n",
    "        layers.BatchNormalization(input_shape=(len(X.columns),)),\n",
    "        layers.Dense(16, activation=\"relu\", input_shape=(len(X.columns),)),\n",
    "        layers.Dense(128, activation=\"relu\", kernel_regularizer=keras.regularizers.l2(l2=0.1)),\n",
    "        layers.Dropout(0.2),\n",
    "        layers.Dense(len(categories), activation=\"softmax\")\n",
    "    ]\n",
    ")\n",
    "\n",
    "# Set a custom learning rate\n",
    "optimizer = keras.optimizers.Adam(lr=0.03)\n",
    "\n",
    "# Model compilation and some info about the model\n",
    "model.compile(optimizer=optimizer, loss='categorical_crossentropy', metrics=['accuracy'])\n",
    "model.summary()"
   ]
  },
  {
   "cell_type": "code",
   "execution_count": 164,
   "metadata": {},
   "outputs": [
    {
     "name": "stdout",
     "output_type": "stream",
     "text": [
      "Epoch 1/100\n"
     ]
    },
    {
     "name": "stdout",
     "output_type": "stream",
     "text": [
      "75/75 [==============================] - 2s 6ms/step - loss: 2.7277 - accuracy: 0.5400 - val_loss: 2.3167 - val_accuracy: 0.3067\n",
      "Epoch 2/100\n",
      "75/75 [==============================] - 0s 3ms/step - loss: 1.3084 - accuracy: 0.7142 - val_loss: 1.0453 - val_accuracy: 0.7300\n",
      "Epoch 3/100\n",
      "75/75 [==============================] - 0s 4ms/step - loss: 0.7793 - accuracy: 0.7887 - val_loss: 0.6646 - val_accuracy: 0.8500\n",
      "Epoch 4/100\n",
      "75/75 [==============================] - 0s 4ms/step - loss: 0.6038 - accuracy: 0.8142 - val_loss: 0.5321 - val_accuracy: 0.8633\n",
      "Epoch 5/100\n",
      "75/75 [==============================] - 0s 3ms/step - loss: 0.5134 - accuracy: 0.8446 - val_loss: 0.4810 - val_accuracy: 0.8900\n",
      "Epoch 6/100\n",
      "75/75 [==============================] - 0s 3ms/step - loss: 0.4808 - accuracy: 0.8550 - val_loss: 0.4472 - val_accuracy: 0.8733\n",
      "Epoch 7/100\n",
      "75/75 [==============================] - 0s 3ms/step - loss: 0.4632 - accuracy: 0.8542 - val_loss: 0.4232 - val_accuracy: 0.8833\n",
      "Epoch 8/100\n",
      "75/75 [==============================] - 0s 3ms/step - loss: 0.4411 - accuracy: 0.8608 - val_loss: 0.4434 - val_accuracy: 0.8433\n",
      "Epoch 9/100\n",
      "75/75 [==============================] - 0s 3ms/step - loss: 0.4163 - accuracy: 0.8704 - val_loss: 0.4045 - val_accuracy: 0.9000\n",
      "Epoch 10/100\n",
      "75/75 [==============================] - 0s 4ms/step - loss: 0.3910 - accuracy: 0.8804 - val_loss: 0.3698 - val_accuracy: 0.8967\n",
      "Epoch 11/100\n",
      "75/75 [==============================] - 0s 3ms/step - loss: 0.3953 - accuracy: 0.8717 - val_loss: 0.3783 - val_accuracy: 0.8833\n",
      "Epoch 12/100\n",
      "75/75 [==============================] - 0s 3ms/step - loss: 0.3885 - accuracy: 0.8767 - val_loss: 0.3902 - val_accuracy: 0.8633\n",
      "Epoch 13/100\n",
      "75/75 [==============================] - 0s 3ms/step - loss: 0.3797 - accuracy: 0.8758 - val_loss: 0.3510 - val_accuracy: 0.8967\n",
      "Epoch 14/100\n",
      "75/75 [==============================] - 0s 3ms/step - loss: 0.3745 - accuracy: 0.8771 - val_loss: 0.3519 - val_accuracy: 0.9067\n",
      "Epoch 15/100\n",
      "75/75 [==============================] - 0s 3ms/step - loss: 0.3881 - accuracy: 0.8792 - val_loss: 0.3714 - val_accuracy: 0.8733\n",
      "Epoch 16/100\n",
      "75/75 [==============================] - 0s 3ms/step - loss: 0.3638 - accuracy: 0.8796 - val_loss: 0.3306 - val_accuracy: 0.9100\n",
      "Epoch 17/100\n",
      "75/75 [==============================] - 0s 3ms/step - loss: 0.3836 - accuracy: 0.8654 - val_loss: 0.3404 - val_accuracy: 0.8967\n",
      "Epoch 18/100\n",
      "75/75 [==============================] - 0s 3ms/step - loss: 0.3751 - accuracy: 0.8692 - val_loss: 0.3436 - val_accuracy: 0.9033\n",
      "Epoch 19/100\n",
      "75/75 [==============================] - 0s 3ms/step - loss: 0.3745 - accuracy: 0.8813 - val_loss: 0.3592 - val_accuracy: 0.8800\n",
      "Epoch 20/100\n",
      "75/75 [==============================] - 0s 3ms/step - loss: 0.3600 - accuracy: 0.8838 - val_loss: 0.3237 - val_accuracy: 0.9167\n",
      "Epoch 21/100\n",
      "75/75 [==============================] - 0s 3ms/step - loss: 0.3573 - accuracy: 0.8775 - val_loss: 0.3242 - val_accuracy: 0.9100\n",
      "Epoch 22/100\n",
      "75/75 [==============================] - 0s 3ms/step - loss: 0.3434 - accuracy: 0.8850 - val_loss: 0.3319 - val_accuracy: 0.9067\n",
      "Epoch 23/100\n",
      "75/75 [==============================] - 0s 3ms/step - loss: 0.3658 - accuracy: 0.8783 - val_loss: 0.3329 - val_accuracy: 0.8867\n",
      "Epoch 24/100\n",
      "75/75 [==============================] - 0s 3ms/step - loss: 0.3559 - accuracy: 0.8788 - val_loss: 0.3232 - val_accuracy: 0.9133\n",
      "Epoch 25/100\n",
      "75/75 [==============================] - 0s 3ms/step - loss: 0.3626 - accuracy: 0.8779 - val_loss: 0.3181 - val_accuracy: 0.9133\n",
      "Epoch 26/100\n",
      "75/75 [==============================] - 0s 3ms/step - loss: 0.3320 - accuracy: 0.8950 - val_loss: 0.3194 - val_accuracy: 0.9100\n",
      "Epoch 27/100\n",
      "75/75 [==============================] - 0s 3ms/step - loss: 0.3438 - accuracy: 0.8850 - val_loss: 0.3048 - val_accuracy: 0.9100\n",
      "Epoch 28/100\n",
      "75/75 [==============================] - 0s 3ms/step - loss: 0.3507 - accuracy: 0.8783 - val_loss: 0.3111 - val_accuracy: 0.9067\n",
      "Epoch 29/100\n",
      "75/75 [==============================] - 0s 3ms/step - loss: 0.3429 - accuracy: 0.8833 - val_loss: 0.3064 - val_accuracy: 0.9200\n",
      "Epoch 30/100\n",
      "75/75 [==============================] - 0s 3ms/step - loss: 0.3605 - accuracy: 0.8771 - val_loss: 0.3159 - val_accuracy: 0.9100\n",
      "Epoch 31/100\n",
      "75/75 [==============================] - 0s 3ms/step - loss: 0.3494 - accuracy: 0.8779 - val_loss: 0.3209 - val_accuracy: 0.9167\n",
      "Epoch 32/100\n",
      "75/75 [==============================] - 0s 3ms/step - loss: 0.3603 - accuracy: 0.8804 - val_loss: 0.3421 - val_accuracy: 0.8767\n",
      "Epoch 33/100\n",
      "75/75 [==============================] - 0s 3ms/step - loss: 0.3330 - accuracy: 0.8846 - val_loss: 0.3268 - val_accuracy: 0.9000\n",
      "Epoch 34/100\n",
      "75/75 [==============================] - 0s 3ms/step - loss: 0.3435 - accuracy: 0.8808 - val_loss: 0.3103 - val_accuracy: 0.9133\n",
      "Epoch 35/100\n",
      "75/75 [==============================] - 0s 3ms/step - loss: 0.3388 - accuracy: 0.8871 - val_loss: 0.3276 - val_accuracy: 0.8967\n",
      "Epoch 36/100\n",
      "75/75 [==============================] - 0s 3ms/step - loss: 0.3374 - accuracy: 0.8858 - val_loss: 0.2992 - val_accuracy: 0.9133\n",
      "Epoch 37/100\n",
      "75/75 [==============================] - 0s 3ms/step - loss: 0.3364 - accuracy: 0.8858 - val_loss: 0.3103 - val_accuracy: 0.9100\n",
      "Epoch 38/100\n",
      "75/75 [==============================] - 0s 3ms/step - loss: 0.3378 - accuracy: 0.8821 - val_loss: 0.2875 - val_accuracy: 0.9267\n",
      "Epoch 39/100\n",
      "75/75 [==============================] - 0s 3ms/step - loss: 0.3418 - accuracy: 0.8800 - val_loss: 0.3044 - val_accuracy: 0.9133\n",
      "Epoch 40/100\n",
      "75/75 [==============================] - 0s 3ms/step - loss: 0.3300 - accuracy: 0.8879 - val_loss: 0.2968 - val_accuracy: 0.9067\n",
      "Epoch 41/100\n",
      "75/75 [==============================] - 0s 4ms/step - loss: 0.3338 - accuracy: 0.8783 - val_loss: 0.2963 - val_accuracy: 0.9133\n",
      "Epoch 42/100\n",
      "75/75 [==============================] - 0s 3ms/step - loss: 0.3170 - accuracy: 0.8908 - val_loss: 0.3332 - val_accuracy: 0.8867\n",
      "Epoch 43/100\n",
      "75/75 [==============================] - 0s 3ms/step - loss: 0.3318 - accuracy: 0.8842 - val_loss: 0.3036 - val_accuracy: 0.8967\n",
      "Epoch 44/100\n",
      "75/75 [==============================] - 0s 3ms/step - loss: 0.3231 - accuracy: 0.8896 - val_loss: 0.2889 - val_accuracy: 0.9133\n",
      "Epoch 45/100\n",
      "75/75 [==============================] - 0s 3ms/step - loss: 0.3475 - accuracy: 0.8767 - val_loss: 0.3011 - val_accuracy: 0.8967\n",
      "Epoch 46/100\n",
      "75/75 [==============================] - 0s 3ms/step - loss: 0.3269 - accuracy: 0.8875 - val_loss: 0.2981 - val_accuracy: 0.9100\n",
      "Epoch 47/100\n",
      "75/75 [==============================] - 0s 3ms/step - loss: 0.3535 - accuracy: 0.8813 - val_loss: 0.3027 - val_accuracy: 0.9000\n",
      "Epoch 48/100\n",
      "75/75 [==============================] - 0s 3ms/step - loss: 0.3009 - accuracy: 0.9033 - val_loss: 0.2861 - val_accuracy: 0.9233\n",
      "Epoch 49/100\n",
      "75/75 [==============================] - 0s 3ms/step - loss: 0.3236 - accuracy: 0.8938 - val_loss: 0.3487 - val_accuracy: 0.8767\n",
      "Epoch 50/100\n",
      "75/75 [==============================] - 0s 3ms/step - loss: 0.3346 - accuracy: 0.8796 - val_loss: 0.2923 - val_accuracy: 0.9167\n",
      "Epoch 51/100\n",
      "75/75 [==============================] - 0s 3ms/step - loss: 0.3352 - accuracy: 0.8779 - val_loss: 0.3136 - val_accuracy: 0.9067\n",
      "Epoch 52/100\n",
      "75/75 [==============================] - 0s 3ms/step - loss: 0.3231 - accuracy: 0.8942 - val_loss: 0.2835 - val_accuracy: 0.9267\n",
      "Epoch 53/100\n",
      "75/75 [==============================] - 0s 3ms/step - loss: 0.3082 - accuracy: 0.8971 - val_loss: 0.2942 - val_accuracy: 0.9233\n",
      "Epoch 54/100\n",
      "75/75 [==============================] - 0s 3ms/step - loss: 0.3377 - accuracy: 0.8863 - val_loss: 0.2887 - val_accuracy: 0.9200\n",
      "Epoch 55/100\n",
      "75/75 [==============================] - 0s 3ms/step - loss: 0.3320 - accuracy: 0.8779 - val_loss: 0.3403 - val_accuracy: 0.8900\n",
      "Epoch 56/100\n",
      "75/75 [==============================] - 0s 3ms/step - loss: 0.3479 - accuracy: 0.8758 - val_loss: 0.3010 - val_accuracy: 0.9067\n",
      "Epoch 57/100\n",
      "75/75 [==============================] - 0s 3ms/step - loss: 0.3203 - accuracy: 0.8900 - val_loss: 0.2859 - val_accuracy: 0.9267\n",
      "Epoch 58/100\n",
      "75/75 [==============================] - 0s 3ms/step - loss: 0.3260 - accuracy: 0.8850 - val_loss: 0.2994 - val_accuracy: 0.9200\n",
      "Epoch 59/100\n",
      "75/75 [==============================] - 0s 3ms/step - loss: 0.3259 - accuracy: 0.8858 - val_loss: 0.2928 - val_accuracy: 0.9100\n",
      "Epoch 60/100\n",
      "75/75 [==============================] - 0s 3ms/step - loss: 0.3058 - accuracy: 0.8988 - val_loss: 0.2845 - val_accuracy: 0.9133\n",
      "Epoch 61/100\n",
      "75/75 [==============================] - 0s 3ms/step - loss: 0.3286 - accuracy: 0.8871 - val_loss: 0.2930 - val_accuracy: 0.9100\n",
      "Epoch 62/100\n",
      "75/75 [==============================] - 0s 3ms/step - loss: 0.3247 - accuracy: 0.8796 - val_loss: 0.2948 - val_accuracy: 0.9067\n",
      "Epoch 63/100\n",
      "75/75 [==============================] - 0s 3ms/step - loss: 0.3204 - accuracy: 0.8871 - val_loss: 0.3040 - val_accuracy: 0.9067\n",
      "Epoch 64/100\n",
      "75/75 [==============================] - 0s 3ms/step - loss: 0.3238 - accuracy: 0.8900 - val_loss: 0.3054 - val_accuracy: 0.9133\n",
      "Epoch 65/100\n",
      "75/75 [==============================] - 0s 3ms/step - loss: 0.3074 - accuracy: 0.8967 - val_loss: 0.2982 - val_accuracy: 0.9200\n",
      "Epoch 66/100\n",
      "75/75 [==============================] - 0s 3ms/step - loss: 0.3376 - accuracy: 0.8821 - val_loss: 0.3003 - val_accuracy: 0.9200\n",
      "Epoch 67/100\n",
      "75/75 [==============================] - 0s 3ms/step - loss: 0.3174 - accuracy: 0.8954 - val_loss: 0.2818 - val_accuracy: 0.9267\n",
      "Epoch 68/100\n",
      "75/75 [==============================] - 0s 3ms/step - loss: 0.3239 - accuracy: 0.8850 - val_loss: 0.3142 - val_accuracy: 0.9167\n",
      "Epoch 69/100\n",
      "75/75 [==============================] - 0s 3ms/step - loss: 0.3229 - accuracy: 0.8913 - val_loss: 0.3237 - val_accuracy: 0.9033\n",
      "Epoch 70/100\n",
      "75/75 [==============================] - 0s 3ms/step - loss: 0.3246 - accuracy: 0.8813 - val_loss: 0.2837 - val_accuracy: 0.9300\n",
      "Epoch 71/100\n",
      "75/75 [==============================] - 0s 3ms/step - loss: 0.3094 - accuracy: 0.8942 - val_loss: 0.2750 - val_accuracy: 0.9300\n",
      "Epoch 72/100\n",
      "75/75 [==============================] - 0s 3ms/step - loss: 0.3366 - accuracy: 0.8854 - val_loss: 0.3092 - val_accuracy: 0.9033\n",
      "Epoch 73/100\n",
      "75/75 [==============================] - 0s 3ms/step - loss: 0.3156 - accuracy: 0.8871 - val_loss: 0.2958 - val_accuracy: 0.9133\n",
      "Epoch 74/100\n",
      "75/75 [==============================] - 0s 3ms/step - loss: 0.3098 - accuracy: 0.8900 - val_loss: 0.2807 - val_accuracy: 0.9200\n",
      "Epoch 75/100\n",
      "75/75 [==============================] - 0s 3ms/step - loss: 0.3171 - accuracy: 0.8942 - val_loss: 0.2912 - val_accuracy: 0.9100\n",
      "Epoch 76/100\n",
      "75/75 [==============================] - 0s 3ms/step - loss: 0.3083 - accuracy: 0.8958 - val_loss: 0.3012 - val_accuracy: 0.9000\n",
      "Epoch 77/100\n",
      "75/75 [==============================] - 0s 3ms/step - loss: 0.3149 - accuracy: 0.8921 - val_loss: 0.3422 - val_accuracy: 0.8833\n",
      "Epoch 78/100\n",
      "75/75 [==============================] - 0s 3ms/step - loss: 0.3053 - accuracy: 0.8971 - val_loss: 0.2858 - val_accuracy: 0.9233\n",
      "Epoch 79/100\n",
      "75/75 [==============================] - 0s 3ms/step - loss: 0.2952 - accuracy: 0.8992 - val_loss: 0.2797 - val_accuracy: 0.9200\n",
      "Epoch 80/100\n",
      "75/75 [==============================] - 0s 3ms/step - loss: 0.3085 - accuracy: 0.8938 - val_loss: 0.2861 - val_accuracy: 0.9000\n",
      "Epoch 81/100\n",
      "75/75 [==============================] - 0s 3ms/step - loss: 0.3109 - accuracy: 0.8842 - val_loss: 0.2720 - val_accuracy: 0.9267\n",
      "Epoch 82/100\n",
      "75/75 [==============================] - 0s 4ms/step - loss: 0.3193 - accuracy: 0.8883 - val_loss: 0.2904 - val_accuracy: 0.9233\n",
      "Epoch 83/100\n",
      "75/75 [==============================] - 0s 3ms/step - loss: 0.2943 - accuracy: 0.9013 - val_loss: 0.2829 - val_accuracy: 0.9167\n",
      "Epoch 84/100\n",
      "75/75 [==============================] - 0s 3ms/step - loss: 0.2858 - accuracy: 0.8963 - val_loss: 0.3148 - val_accuracy: 0.8933\n",
      "Epoch 85/100\n",
      "75/75 [==============================] - 0s 3ms/step - loss: 0.3380 - accuracy: 0.8825 - val_loss: 0.3622 - val_accuracy: 0.8733\n",
      "Epoch 86/100\n",
      "75/75 [==============================] - 0s 3ms/step - loss: 0.3441 - accuracy: 0.8800 - val_loss: 0.2985 - val_accuracy: 0.9200\n",
      "Epoch 87/100\n",
      "75/75 [==============================] - 0s 3ms/step - loss: 0.3339 - accuracy: 0.8846 - val_loss: 0.2987 - val_accuracy: 0.9100\n",
      "Epoch 88/100\n",
      "75/75 [==============================] - 0s 3ms/step - loss: 0.3153 - accuracy: 0.8913 - val_loss: 0.2934 - val_accuracy: 0.9167\n",
      "Epoch 89/100\n",
      "75/75 [==============================] - 0s 3ms/step - loss: 0.3286 - accuracy: 0.8833 - val_loss: 0.2748 - val_accuracy: 0.9167\n",
      "Epoch 90/100\n",
      "75/75 [==============================] - 0s 3ms/step - loss: 0.3173 - accuracy: 0.8867 - val_loss: 0.2856 - val_accuracy: 0.9167\n",
      "Epoch 91/100\n",
      "75/75 [==============================] - 0s 3ms/step - loss: 0.3339 - accuracy: 0.8817 - val_loss: 0.3075 - val_accuracy: 0.9100\n",
      "Epoch 92/100\n",
      "75/75 [==============================] - 0s 3ms/step - loss: 0.3017 - accuracy: 0.9029 - val_loss: 0.2786 - val_accuracy: 0.9200\n",
      "Epoch 93/100\n",
      "75/75 [==============================] - 0s 3ms/step - loss: 0.3092 - accuracy: 0.8958 - val_loss: 0.2943 - val_accuracy: 0.9067\n",
      "Epoch 94/100\n",
      "75/75 [==============================] - 0s 3ms/step - loss: 0.3038 - accuracy: 0.8954 - val_loss: 0.2946 - val_accuracy: 0.9067\n",
      "Epoch 95/100\n",
      "75/75 [==============================] - 0s 3ms/step - loss: 0.3094 - accuracy: 0.8938 - val_loss: 0.2731 - val_accuracy: 0.9200\n",
      "Epoch 96/100\n",
      "75/75 [==============================] - 0s 3ms/step - loss: 0.3193 - accuracy: 0.8925 - val_loss: 0.2840 - val_accuracy: 0.9233\n",
      "Epoch 97/100\n",
      "75/75 [==============================] - 0s 3ms/step - loss: 0.3058 - accuracy: 0.8938 - val_loss: 0.2794 - val_accuracy: 0.9133\n",
      "Epoch 98/100\n",
      "75/75 [==============================] - 0s 3ms/step - loss: 0.3204 - accuracy: 0.8904 - val_loss: 0.2895 - val_accuracy: 0.9033\n",
      "Epoch 99/100\n",
      "75/75 [==============================] - 0s 3ms/step - loss: 0.3418 - accuracy: 0.8771 - val_loss: 0.2890 - val_accuracy: 0.9100\n",
      "Epoch 100/100\n",
      "75/75 [==============================] - 0s 3ms/step - loss: 0.3125 - accuracy: 0.8904 - val_loss: 0.2918 - val_accuracy: 0.9167\n"
     ]
    },
    {
     "data": {
      "text/plain": [
       "<keras.src.callbacks.History at 0x27da17562c0>"
      ]
     },
     "execution_count": 164,
     "metadata": {},
     "output_type": "execute_result"
    }
   ],
   "source": [
    "# Epochs can be adjusted\n",
    "model.fit(x=X_train, y=y_train, epochs=100, validation_data=(X_val, y_val))"
   ]
  },
  {
   "cell_type": "code",
   "execution_count": 165,
   "metadata": {},
   "outputs": [
    {
     "data": {
      "text/plain": [
       "<Axes: >"
      ]
     },
     "execution_count": 165,
     "metadata": {},
     "output_type": "execute_result"
    },
    {
     "data": {
      "image/png": "[encoded data removed]",
      "text/plain": [
       "<Figure size 640x480 with 1 Axes>"
      ]
     },
     "metadata": {},
     "output_type": "display_data"
    },
    {
     "data": {
      "image/png": "[encoded data removed]",
      "text/plain": [
       "<Figure size 640x480 with 1 Axes>"
      ]
     },
     "metadata": {},
     "output_type": "display_data"
    }
   ],
   "source": [
    "loss_df = pd.DataFrame(model.history.history)\n",
    "loss_df[['loss', 'val_loss']].plot()\n",
    "loss_df[['accuracy', 'val_accuracy']].plot()"
   ]
  },
  {
   "cell_type": "code",
   "execution_count": 166,
   "metadata": {},
   "outputs": [
    {
     "name": "stdout",
     "output_type": "stream",
     "text": [
      "Test data evaluation:\n",
      "[0.30388790369033813, 0.8966666460037231]\n",
      "\n",
      "Train data evaluation:\n",
      "[0.25064897537231445, 0.9233333468437195]\n",
      "10/10 [==============================] - 0s 2ms/step\n"
     ]
    }
   ],
   "source": [
    "# compare the final model loss/accuracy/evaluation values\n",
    "# the values should again match mostly\n",
    "print(\"Test data evaluation:\")\n",
    "print(model.evaluate(X_test, y_test, verbose=0))\n",
    "print(\"\\nTrain data evaluation:\")\n",
    "print(model.evaluate(X_train, y_train, verbose=0))\n",
    "\n",
    "# get predictions and convert with argmax() to get categories \n",
    "# instead of raw probabilities\n",
    "test_predictions = model.predict(X_test)\n",
    "test_predictions = np.argmax(test_predictions, axis=1)\n",
    "\n",
    "# convert also y-test -values with argmax\n",
    "y_test = np.argmax(y_test, axis=1)"
   ]
  },
  {
   "cell_type": "code",
   "execution_count": 167,
   "metadata": {},
   "outputs": [
    {
     "data": {
      "text/plain": [
       "<Axes: >"
      ]
     },
     "execution_count": 167,
     "metadata": {},
     "output_type": "execute_result"
    },
    {
     "data": {
      "image/png": "[encoded data removed]",
      "text/plain": [
       "<Figure size 640x480 with 2 Axes>"
      ]
     },
     "metadata": {},
     "output_type": "display_data"
    }
   ],
   "source": [
    "# Heatmap with category names\n",
    "sns.heatmap(confusion_matrix(y_test, test_predictions), xticklabels=categories, yticklabels=categories, annot=True, fmt='g')"
   ]
  },
  {
   "cell_type": "code",
   "execution_count": 168,
   "metadata": {},
   "outputs": [
    {
     "name": "stdout",
     "output_type": "stream",
     "text": [
      "              precision    recall  f1-score   support\n",
      "\n",
      "      GALAXY       0.89      0.76      0.82        93\n",
      "         QSO       0.98      0.92      0.95       102\n",
      "        STAR       0.84      0.99      0.91       105\n",
      "\n",
      "    accuracy                           0.90       300\n",
      "   macro avg       0.90      0.89      0.89       300\n",
      "weighted avg       0.90      0.90      0.90       300\n",
      "\n",
      "\n",
      "Model overall accuracy: 89.67%\n",
      "94/94 [==============================] - 0s 2ms/step\n",
      "0.9841796666666668\n"
     ]
    }
   ],
   "source": [
    "# print the classification report based on true values and predictions\n",
    "print(classification_report(y_test, test_predictions, target_names=categories))\n",
    "\n",
    "# get overall accuracy of the model and print it\n",
    "acc = accuracy_score(y_test, test_predictions)\n",
    "print(\"\\nModel overall accuracy: {:.2f}%\".format(acc * 100))\n",
    "\n",
    "# Computing the ROC-AUC -score\n",
    "print(roc_auc_score(y, model.predict(X), multi_class=\"ovr\"))"
   ]
  },
  {
   "cell_type": "code",
   "execution_count": 169,
   "metadata": {},
   "outputs": [
    {
     "name": "stdout",
     "output_type": "stream",
     "text": [
      "1/1 [==============================] - 0s 79ms/step\n",
      "[0. 1. 0.]\n",
      "1\n",
      "Predicted price range: QSO\n"
     ]
    }
   ],
   "source": [
    "# Make a new test prediction\n",
    "\n",
    "test_row = {\n",
    "    'alpha': 140, \n",
    "    'delta': 35, \n",
    "    'u': 25, \n",
    "    'g': 23, \n",
    "    'r': 20, \n",
    "    'i': 20, \n",
    "    'z': 19,\n",
    "    'redshift': 4\n",
    "}\n",
    "\n",
    "# convert to pandas-format\n",
    "tester_row = pd.DataFrame([test_row])\n",
    "result = model.predict(tester_row)[0]\n",
    "print(result.round(3))\n",
    "\n",
    "result_index = np.argmax(result)\n",
    "print(result_index)\n",
    "\n",
    "# print the actual name with this index\n",
    "result_text = categories[result_index]\n",
    "\n",
    "# print the result\n",
    "print(f\"Predicted price range: {result_text}\")"
   ]
  }
 ],
 "metadata": {
  "kernelspec": {
   "display_name": ".venv",
   "language": "python",
   "name": "python3"
  },
  "language_info": {
   "codemirror_mode": {
    "name": "ipython",
    "version": 3
   },
   "file_extension": ".py",
   "mimetype": "text/x-python",
   "name": "python",
   "nbconvert_exporter": "python",
   "pygments_lexer": "ipython3",
   "version": "3.10.11"
  }
 },
 "nbformat": 4,
 "nbformat_minor": 2
}
